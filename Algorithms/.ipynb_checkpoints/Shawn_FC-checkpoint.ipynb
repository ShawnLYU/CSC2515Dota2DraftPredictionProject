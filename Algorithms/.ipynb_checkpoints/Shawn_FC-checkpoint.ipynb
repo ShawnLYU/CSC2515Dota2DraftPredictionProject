{
 "cells": [
  {
   "cell_type": "markdown",
   "metadata": {},
   "source": [
    "# Imports"
   ]
  },
  {
   "cell_type": "code",
   "execution_count": null,
   "metadata": {},
   "outputs": [],
   "source": [
    "import torch\n",
    "import numpy as np\n",
    "\n",
    "from torch.autograd import Variable\n",
    "import torch.nn.functional as F\n",
    "\n",
    "dataset=np.load('all_IO_noleave_N.npz')\n",
    "\n",
    "trainX=np.asmatrix(dataset['TrainX'])[0,0].todense().astype(np.float32)\n",
    "\n",
    "validX=np.asmatrix(dataset['ValidX'])[0,0].todense().astype(np.float32)\n",
    "\n",
    "testX=np.asmatrix(dataset['TestX'])[0,0].todense().astype(np.float32)\n",
    "\n",
    "trainY=np.array(np.asmatrix(dataset['TrainY'])[0,0].todense().astype(np.float32)).flatten()\n",
    "\n",
    "validY=np.array(np.asmatrix(dataset['ValidY'])[0,0].todense().astype(np.float32)).flatten()\n",
    "\n",
    "testY=np.array(np.asmatrix(dataset['TestY'])[0,0].todense().astype(np.float32)).flatten()"
   ]
  },
  {
   "cell_type": "code",
   "execution_count": null,
   "metadata": {},
   "outputs": [],
   "source": [
    "print('training dataset: ',trainX.shape)"
   ]
  },
  {
   "cell_type": "markdown",
   "metadata": {},
   "source": [
    "# Define the fully connected network"
   ]
  },
  {
   "cell_type": "code",
   "execution_count": null,
   "metadata": {},
   "outputs": [],
   "source": [
    "\n",
    "class Net(torch.nn.Module):\n",
    "    def __init__(self, n_feature, n_output):\n",
    "        super(Net, self).__init__()\n",
    "        self.fc = torch.nn.Sequential()\n",
    "        self.fc.add_module('hidden_layer_1', torch.nn.Linear(n_feature, 160))\n",
    "        self.fc.add_module('hidden_layer_2', torch.nn.Linear(160, 20))\n",
    "        # self.fc.add_module('hidden_layer_2', torch.nn.Linear(80, 20))\n",
    "        self.fc.add_module('relu_2', torch.nn.ReLU(True))\n",
    "        self.fc.add_module('output_layer', torch.nn.Linear(20, n_output))\n",
    "                          \n",
    "    def forward(self, x):\n",
    "        x = self.fc.forward(x)\n",
    "        return x"
   ]
  },
  {
   "cell_type": "code",
   "execution_count": null,
   "metadata": {},
   "outputs": [],
   "source": [
    "\n",
    "def train(model, loss, optimizer, x, y):\n",
    "    x, y = Variable(torch.from_numpy(x)), Variable(torch.from_numpy(y))\n",
    "    fx = model(x)\n",
    "    output = loss(fx, y)\n",
    "    optimizer.zero_grad()\n",
    "    output.backward()\n",
    "    optimizer.step()\n",
    "    prediction = torch.max(F.softmax(fx), 1)[1]\n",
    "    pred_y = prediction.data.numpy().squeeze()\n",
    "    target_y = y.data.numpy()\n",
    "    accuracy = sum(pred_y == target_y)/len(pred_y)\n",
    "    return accuracy"
   ]
  },
  {
   "cell_type": "markdown",
   "metadata": {},
   "source": [
    "# Define optimizer and loss function"
   ]
  },
  {
   "cell_type": "code",
   "execution_count": null,
   "metadata": {},
   "outputs": [],
   "source": [
    "epochs = 1000\n",
    "model = Net(226, 2)\n",
    "loss = torch.nn.CrossEntropyLoss()\n",
    "# optimizer = torch.optim.SGD(model.parameters(), lr=0.012)\n",
    "optimizer = torch.optim.SGD(model.parameters(), lr=0.005, momentum=0.9)"
   ]
  },
  {
   "cell_type": "code",
   "execution_count": null,
   "metadata": {},
   "outputs": [],
   "source": [
    "\n",
    "with open('fc.log','a') as f:\n",
    "    for i in range(epochs):\n",
    "        acc = train(model, loss, optimizer, trainX, trainY.astype(int))\n",
    "        print(acc)\n",
    "        f.write('epoch %d, accuracy: %f\\n' % (i, acc))"
   ]
  },
  {
   "cell_type": "code",
   "execution_count": null,
   "metadata": {},
   "outputs": [],
   "source": []
  },
  {
   "cell_type": "code",
   "execution_count": null,
   "metadata": {},
   "outputs": [],
   "source": []
  },
  {
   "cell_type": "code",
   "execution_count": null,
   "metadata": {},
   "outputs": [],
   "source": []
  },
  {
   "cell_type": "code",
   "execution_count": null,
   "metadata": {},
   "outputs": [],
   "source": []
  },
  {
   "cell_type": "code",
   "execution_count": null,
   "metadata": {},
   "outputs": [],
   "source": []
  },
  {
   "cell_type": "code",
   "execution_count": null,
   "metadata": {},
   "outputs": [],
   "source": []
  },
  {
   "cell_type": "code",
   "execution_count": null,
   "metadata": {},
   "outputs": [],
   "source": []
  },
  {
   "cell_type": "code",
   "execution_count": null,
   "metadata": {},
   "outputs": [],
   "source": []
  },
  {
   "cell_type": "code",
   "execution_count": null,
   "metadata": {},
   "outputs": [],
   "source": []
  },
  {
   "cell_type": "code",
   "execution_count": null,
   "metadata": {},
   "outputs": [],
   "source": []
  },
  {
   "cell_type": "code",
   "execution_count": null,
   "metadata": {},
   "outputs": [],
   "source": []
  }
 ],
 "metadata": {
  "kernelspec": {
   "display_name": "Python 3",
   "language": "python",
   "name": "python3"
  },
  "language_info": {
   "codemirror_mode": {
    "name": "ipython",
    "version": 3
   },
   "file_extension": ".py",
   "mimetype": "text/x-python",
   "name": "python",
   "nbconvert_exporter": "python",
   "pygments_lexer": "ipython3",
   "version": "3.7.0"
  }
 },
 "nbformat": 4,
 "nbformat_minor": 2
}
