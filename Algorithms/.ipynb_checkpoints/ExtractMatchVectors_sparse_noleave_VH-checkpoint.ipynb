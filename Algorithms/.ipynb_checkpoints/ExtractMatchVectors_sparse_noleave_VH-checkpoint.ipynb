{
 "cells": [
  {
   "cell_type": "code",
   "execution_count": 1,
   "metadata": {
    "collapsed": true
   },
   "outputs": [],
   "source": [
    "import numpy as np\n",
    "import pandas as pd\n",
    "from scipy import sparse"
   ]
  },
  {
   "cell_type": "code",
   "execution_count": 2,
   "metadata": {
    "collapsed": true
   },
   "outputs": [],
   "source": [
    "D=pd.read_csv('../data/Semenov2017PaperData_matches_dota.csv',nrows=7)\n",
    "D=D.loc[(D['leavers']==0)&(D['skill']==3),:]"
   ]
  },
  {
   "cell_type": "code",
   "execution_count": 3,
   "metadata": {},
   "outputs": [],
   "source": [
    "# Initializing the sparse input and output matrix\n",
    "Out=sparse.csc_matrix(D['radiant_win'])\n",
    "train_heroes=D.loc[:,'r1_hero_id':]\n",
    "trainX=np.zeros((D.shape[0],2*113))\n",
    "for i in range(D.shape[0]):\n",
    "    trainX[i,train_heroes.iloc[i,0:5].values-1]=np.ones(5)\n",
    "    trainX[i,train_heroes.iloc[i,5:10].values-1+113]=np.ones(5)\n",
    "In=sparse.csr_matrix(trainX)"
   ]
  },
  {
   "cell_type": "code",
   "execution_count": 4,
   "metadata": {},
   "outputs": [
    {
     "name": "stdout",
     "output_type": "stream",
     "text": [
      "Processing  1 st block of 10000 records\n",
      "Processing  51 st block of 10000 records\n",
      "Processing  101 st block of 10000 records\n",
      "Processing  151 st block of 10000 records\n",
      "Processing  201 st block of 10000 records\n",
      "Processing  251 st block of 10000 records\n",
      "Processing  301 st block of 10000 records\n",
      "Processing  351 st block of 10000 records\n",
      "Processing  401 st block of 10000 records\n",
      "Processing  451 st block of 10000 records\n",
      "Processing  501 st block of 10000 records\n"
     ]
    }
   ],
   "source": [
    "m=10000\n",
    "j=0\n",
    "for chunk in pd.read_csv('../data/Semenov2017PaperData_matches_dota.csv',chunksize=m):\n",
    "    if j%50==0:\n",
    "        print('Processing ',j+1,'st block of 10000 records')\n",
    "    j+=1\n",
    "        \n",
    "    D=chunk.loc[(chunk['leavers']==0)&(chunk['skill']==3),:]\n",
    "    n=D.shape[0]\n",
    "    Out=sparse.hstack([Out,sparse.csc_matrix(D['radiant_win'])])\n",
    "    train_heroes=D.loc[:,'r1_hero_id':]\n",
    "    trainX=np.zeros((n,2*113))\n",
    "    for i in range(D.shape[0]):\n",
    "        trainX[i,train_heroes.iloc[i,0:5].values-1]=np.ones(5)\n",
    "        trainX[i,train_heroes.iloc[i,5:10].values-1+113]=np.ones(5)\n",
    "    In=sparse.vstack([In,sparse.csr_matrix(trainX)])"
   ]
  },
  {
   "cell_type": "code",
   "execution_count": 7,
   "metadata": {},
   "outputs": [
    {
     "name": "stdout",
     "output_type": "stream",
     "text": [
      "Input Matrix size (914193, 226)\n",
      "Output Matrix size (1, 914193)\n"
     ]
    }
   ],
   "source": [
    "print('Input Matrix size', In.shape)\n",
    "print('Output Matrix size', Out.shape)"
   ]
  },
  {
   "cell_type": "code",
   "execution_count": 8,
   "metadata": {},
   "outputs": [
    {
     "data": {
      "text/plain": [
       "<914193x226 sparse matrix of type '<class 'numpy.float64'>'\n",
       "\twith 9141930 stored elements in Compressed Sparse Row format>"
      ]
     },
     "execution_count": 8,
     "metadata": {},
     "output_type": "execute_result"
    }
   ],
   "source": [
    "In"
   ]
  },
  {
   "cell_type": "code",
   "execution_count": 9,
   "metadata": {},
   "outputs": [
    {
     "data": {
      "text/plain": [
       "<1x914193 sparse matrix of type '<class 'numpy.int64'>'\n",
       "\twith 476458 stored elements in Compressed Sparse Column format>"
      ]
     },
     "execution_count": 9,
     "metadata": {},
     "output_type": "execute_result"
    }
   ],
   "source": [
    "Out"
   ]
  },
  {
   "cell_type": "code",
   "execution_count": null,
   "metadata": {
    "collapsed": true
   },
   "outputs": [],
   "source": []
  },
  {
   "cell_type": "code",
   "execution_count": 19,
   "metadata": {},
   "outputs": [
    {
     "name": "stdout",
     "output_type": "stream",
     "text": [
      "TrainX size (457324, 226)\n",
      "ValidX size (228320, 226)\n",
      "TestX size (228549, 226)\n",
      "TrainY size (457324, 1)\n",
      "ValidY size (228320, 1)\n",
      "TestY size (228549, 1)\n"
     ]
    }
   ],
   "source": [
    "from sklearn.model_selection import train_test_split\n",
    "tempX, TestX, tempY, TestY = train_test_split(In,Out.transpose(),test_size=0.25)\n",
    "TrainX, ValidX, TrainY, ValidY = train_test_split(tempX,tempY,test_size=0.333)\n",
    "print('TrainX size', TrainX.shape)\n",
    "print('ValidX size', ValidX.shape)\n",
    "print('TestX size', TestX.shape)\n",
    "print('TrainY size', TrainY.shape)\n",
    "print('ValidY size', ValidY.shape)\n",
    "print('TestY size', TestY.shape)"
   ]
  },
  {
   "cell_type": "code",
   "execution_count": 24,
   "metadata": {},
   "outputs": [],
   "source": [
    "sparse.save_npz('TrainInput_sparse_noleave_VH.npz',TrainX)\n",
    "sparse.save_npz('ValidInput_sparse_noleave_VH.npz',ValidX)\n",
    "sparse.save_npz('TestInput_sparse_noleave_VH.npz',TestX)\n",
    "sparse.save_npz('TrainOutput_sparse_noleave_VH.npz',TrainY)\n",
    "sparse.save_npz('ValidOutput_sparse_noleave_VH.npz',ValidY)\n",
    "sparse.save_npz('TestOutput_sparse_noleave_VH.npz',TestY)"
   ]
  },
  {
   "cell_type": "code",
   "execution_count": 25,
   "metadata": {
    "collapsed": true
   },
   "outputs": [],
   "source": [
    "with open('AllSetSparseInOut_noleave_VH.npz','wb') as handle:\n",
    "    np.savez_compressed(handle,TrainX=TrainX,ValidX=ValidX,TestX=TestX,TrainY=TrainY,ValidY=ValidY,TestY=TestY)"
   ]
  },
  {
   "cell_type": "code",
   "execution_count": null,
   "metadata": {
    "collapsed": true
   },
   "outputs": [],
   "source": []
  },
  {
   "cell_type": "code",
   "execution_count": null,
   "metadata": {
    "collapsed": true
   },
   "outputs": [],
   "source": []
  },
  {
   "cell_type": "code",
   "execution_count": null,
   "metadata": {
    "collapsed": true
   },
   "outputs": [],
   "source": []
  },
  {
   "cell_type": "code",
   "execution_count": 21,
   "metadata": {},
   "outputs": [
    {
     "data": {
      "text/plain": [
       "<457324x1 sparse matrix of type '<class 'numpy.int64'>'\n",
       "\twith 238483 stored elements in Compressed Sparse Row format>"
      ]
     },
     "execution_count": 21,
     "metadata": {},
     "output_type": "execute_result"
    }
   ],
   "source": [
    "TrainY"
   ]
  },
  {
   "cell_type": "code",
   "execution_count": null,
   "metadata": {
    "collapsed": true
   },
   "outputs": [],
   "source": []
  },
  {
   "cell_type": "code",
   "execution_count": null,
   "metadata": {
    "collapsed": true
   },
   "outputs": [],
   "source": []
  },
  {
   "cell_type": "code",
   "execution_count": null,
   "metadata": {
    "collapsed": true
   },
   "outputs": [],
   "source": []
  },
  {
   "cell_type": "code",
   "execution_count": null,
   "metadata": {
    "collapsed": true
   },
   "outputs": [],
   "source": []
  },
  {
   "cell_type": "code",
   "execution_count": null,
   "metadata": {
    "collapsed": true
   },
   "outputs": [],
   "source": []
  },
  {
   "cell_type": "code",
   "execution_count": null,
   "metadata": {
    "collapsed": true
   },
   "outputs": [],
   "source": []
  },
  {
   "cell_type": "code",
   "execution_count": null,
   "metadata": {
    "collapsed": true
   },
   "outputs": [],
   "source": []
  },
  {
   "cell_type": "code",
   "execution_count": null,
   "metadata": {
    "collapsed": true
   },
   "outputs": [],
   "source": []
  },
  {
   "cell_type": "code",
   "execution_count": null,
   "metadata": {
    "collapsed": true
   },
   "outputs": [],
   "source": []
  },
  {
   "cell_type": "code",
   "execution_count": null,
   "metadata": {
    "collapsed": true
   },
   "outputs": [],
   "source": []
  },
  {
   "cell_type": "code",
   "execution_count": null,
   "metadata": {
    "collapsed": true
   },
   "outputs": [],
   "source": []
  },
  {
   "cell_type": "code",
   "execution_count": null,
   "metadata": {
    "collapsed": true
   },
   "outputs": [],
   "source": []
  },
  {
   "cell_type": "code",
   "execution_count": null,
   "metadata": {
    "collapsed": true
   },
   "outputs": [],
   "source": []
  },
  {
   "cell_type": "code",
   "execution_count": null,
   "metadata": {
    "collapsed": true
   },
   "outputs": [],
   "source": []
  },
  {
   "cell_type": "code",
   "execution_count": null,
   "metadata": {
    "collapsed": true
   },
   "outputs": [],
   "source": []
  },
  {
   "cell_type": "code",
   "execution_count": null,
   "metadata": {
    "collapsed": true
   },
   "outputs": [],
   "source": []
  }
 ],
 "metadata": {
  "kernelspec": {
   "display_name": "Python 3",
   "language": "python",
   "name": "python3"
  },
  "language_info": {
   "codemirror_mode": {
    "name": "ipython",
    "version": 3
   },
   "file_extension": ".py",
   "mimetype": "text/x-python",
   "name": "python",
   "nbconvert_exporter": "python",
   "pygments_lexer": "ipython3",
   "version": "3.7.0"
  }
 },
 "nbformat": 4,
 "nbformat_minor": 2
}
