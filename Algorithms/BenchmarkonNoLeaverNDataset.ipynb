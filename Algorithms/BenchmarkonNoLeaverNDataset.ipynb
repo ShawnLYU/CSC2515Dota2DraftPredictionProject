{
 "cells": [
  {
   "cell_type": "code",
   "execution_count": 1,
   "metadata": {
    "collapsed": true
   },
   "outputs": [],
   "source": [
    "%matplotlib inline\n",
    "import numpy as np\n",
    "import pandas as pd\n",
    "from scipy import sparse\n",
    "from scipy.sparse import linalg\n",
    "import matplotlib.pyplot as plt"
   ]
  },
  {
   "cell_type": "code",
   "execution_count": 2,
   "metadata": {
    "collapsed": true
   },
   "outputs": [],
   "source": [
    "dataset=np.load('../data/AllSetSparseInOut_noleave_N.npz')\n",
    "TrainX=np.asmatrix(dataset['TrainX'])[0,0]\n",
    "ValidX=np.asmatrix(dataset['ValidX'])[0,0]\n",
    "TestX=np.asmatrix(dataset['TestX'])[0,0]\n",
    "TrainY=np.asmatrix(dataset['TrainY'])[0,0]\n",
    "ValidY=np.asmatrix(dataset['ValidY'])[0,0]\n",
    "TestY=np.asmatrix(dataset['TestY'])[0,0]\n",
    "del dataset"
   ]
  },
  {
   "cell_type": "code",
   "execution_count": 3,
   "metadata": {},
   "outputs": [
    {
     "name": "stdout",
     "output_type": "stream",
     "text": [
      "Naive Bayes Model on NoLeaverN, Training Set performance: accuracy  64.2479466639  %;  793581  predictions correct out of  1235185  matches\n"
     ]
    }
   ],
   "source": [
    "from sklearn.naive_bayes import BernoulliNB\n",
    "NBclf=BernoulliNB()\n",
    "NBclf.fit(TrainX,TrainY.toarray().reshape((TrainX.shape[0],)))\n",
    "TrainY_NB=NBclf.predict(TrainX).reshape((TrainX.shape[0],1))\n",
    "TrainingSetPrediction_NB=(TrainY==TrainY_NB)\n",
    "print('Naive Bayes Model on NoLeaverN, Training Set performance: accuracy ',TrainingSetPrediction_NB.sum()*100/len(TrainingSetPrediction_NB),' %; ',TrainingSetPrediction_NB.sum(),' predictions correct out of ',len(TrainingSetPrediction_NB),' matches')"
   ]
  },
  {
   "cell_type": "code",
   "execution_count": 4,
   "metadata": {},
   "outputs": [
    {
     "name": "stdout",
     "output_type": "stream",
     "text": [
      "Logistic Regression Model on NoLeaverN, Training Set performance: accuracy  64.3902735218  %;  795339  predictions correct out of  1235185  matches\n"
     ]
    }
   ],
   "source": [
    "from sklearn.linear_model import LogisticRegression\n",
    "lr = LogisticRegression(penalty='l2',solver='sag')\n",
    "lr.fit(TrainX,TrainY.toarray().reshape((TrainX.shape[0],)))\n",
    "TrainY_LR=lr.predict(TrainX).reshape((TrainX.shape[0],1))\n",
    "TrainingSetPrediction_LR=(TrainY==TrainY_LR)\n",
    "print('Logistic Regression Model on NoLeaverN, Training Set performance: accuracy ',TrainingSetPrediction_LR.sum()*100/len(TrainingSetPrediction_LR),' %; ',TrainingSetPrediction_LR.sum(),' predictions correct out of ',len(TrainingSetPrediction_LR),' matches')"
   ]
  },
  {
   "cell_type": "code",
   "execution_count": 5,
   "metadata": {},
   "outputs": [
    {
     "name": "stdout",
     "output_type": "stream",
     "text": [
      "Linear SVM on NoLeaverN, Training Set performance: accuracy  64.2632480155  %;  793770  predictions correct out of  1235185  matches\n"
     ]
    }
   ],
   "source": [
    "from sklearn import svm\n",
    "svmclf_lin=svm.LinearSVC()\n",
    "n=100000\n",
    "svmclf_lin.fit(TrainX[0:n,:],TrainY[:n].toarray().reshape((n,)))\n",
    "TrainY_SVMlin=svmclf_lin.predict(TrainX).reshape((TrainX.shape[0],1))\n",
    "TrainingSetPrediction_SVMlin=(TrainY==TrainY_SVMlin)\n",
    "print('Linear SVM on NoLeaverN, Training Set performance: accuracy ',TrainingSetPrediction_SVMlin.sum()*100/len(TrainingSetPrediction_SVMlin),' %; ',TrainingSetPrediction_SVMlin.sum(),' predictions correct out of ',len(TrainingSetPrediction_SVMlin),' matches')"
   ]
  },
  {
   "cell_type": "code",
   "execution_count": 6,
   "metadata": {},
   "outputs": [
    {
     "data": {
      "text/plain": [
       "SVC(C=1.0, cache_size=200, class_weight=None, coef0=0.0,\n",
       "  decision_function_shape=None, degree=3, gamma='auto', kernel='rbf',\n",
       "  max_iter=-1, probability=False, random_state=None, shrinking=True,\n",
       "  tol=0.001, verbose=False)"
      ]
     },
     "execution_count": 6,
     "metadata": {},
     "output_type": "execute_result"
    }
   ],
   "source": [
    "from sklearn import svm\n",
    "svmclf_rbf=svm.SVC()\n",
    "n=20000\n",
    "svmclf_rbf.fit(TrainX[:n,:], TrainY[:n].toarray().reshape((n,)))"
   ]
  },
  {
   "cell_type": "code",
   "execution_count": 7,
   "metadata": {},
   "outputs": [
    {
     "name": "stdout",
     "output_type": "stream",
     "text": [
      "RBF SVM on NoLeaverN, Training Set performance: accuracy  63.75  %;  31875  predictions correct out of  50000  matches\n"
     ]
    }
   ],
   "source": [
    "n2=50000\n",
    "TrainY_SVMrbf=svmclf_rbf.predict(TrainX[:n2,:]).reshape((n2,1))\n",
    "TrainingSetPrediction_SVMrbf=(TrainY[:n2,:]==TrainY_SVMrbf)\n",
    "print('RBF SVM on NoLeaverN, Training Set performance: accuracy ',TrainingSetPrediction_SVMrbf.sum()*100/len(TrainingSetPrediction_SVMrbf),' %; ',TrainingSetPrediction_SVMrbf.sum(),' predictions correct out of ',len(TrainingSetPrediction_SVMrbf),' matches')"
   ]
  },
  {
   "cell_type": "code",
   "execution_count": 8,
   "metadata": {},
   "outputs": [
    {
     "name": "stdout",
     "output_type": "stream",
     "text": [
      "Naive Bayes Model on NoLeaverN, Test Set performance: accuracy  64.1821848903  %;  396187  predictions correct out of  617285  matches\n"
     ]
    }
   ],
   "source": [
    "TestY_NB=NBclf.predict(TestX).reshape((TestX.shape[0],1))\n",
    "TestSetPrediction_NB=(TestY==TestY_NB)\n",
    "print('Naive Bayes Model on NoLeaverN, Test Set performance: accuracy ',TestSetPrediction_NB.sum()*100/len(TestSetPrediction_NB),' %; ',TestSetPrediction_NB.sum(),' predictions correct out of ',len(TestSetPrediction_NB),' matches')"
   ]
  },
  {
   "cell_type": "code",
   "execution_count": 9,
   "metadata": {},
   "outputs": [
    {
     "name": "stdout",
     "output_type": "stream",
     "text": [
      "Logistic Regression Model on NoLeaverN, Test Set performance: accuracy  64.4222684821  %;  397669  predictions correct out of  617285  matches\n"
     ]
    }
   ],
   "source": [
    "TestY_LR=lr.predict(TestX).reshape((TestX.shape[0],1))\n",
    "TestSetPrediction_LR=(TestY==TestY_LR)\n",
    "print('Logistic Regression Model on NoLeaverN, Test Set performance: accuracy ',TestSetPrediction_LR.sum()*100/len(TestSetPrediction_LR),' %; ',TestSetPrediction_LR.sum(),' predictions correct out of ',len(TestSetPrediction_LR),' matches')"
   ]
  },
  {
   "cell_type": "code",
   "execution_count": 10,
   "metadata": {},
   "outputs": [
    {
     "name": "stdout",
     "output_type": "stream",
     "text": [
      "Linear SVM on NoLeaverN, Test Set performance: accuracy  64.2528167702  %;  396623  predictions correct out of  617285  matches\n"
     ]
    }
   ],
   "source": [
    "TestY_SVMlin=svmclf_lin.predict(TestX).reshape((TestX.shape[0],1))\n",
    "TestSetPrediction_SVMlin=(TestY==TestY_SVMlin)\n",
    "print('Linear SVM on NoLeaverN, Test Set performance: accuracy ',TestSetPrediction_SVMlin.sum()*100/len(TestSetPrediction_SVMlin),' %; ',TestSetPrediction_SVMlin.sum(),' predictions correct out of ',len(TestSetPrediction_SVMlin),' matches')"
   ]
  },
  {
   "cell_type": "code",
   "execution_count": 11,
   "metadata": {},
   "outputs": [
    {
     "name": "stdout",
     "output_type": "stream",
     "text": [
      "RBF SVM on NoLeaverN, Test Set performance: accuracy  63.264  %;  31632  predictions correct out of  50000  matches\n"
     ]
    }
   ],
   "source": [
    "TestY_SVMrbf=svmclf_rbf.predict(TestX[:n2,:]).reshape((n2,1))\n",
    "TestSetPrediction_SVMrbf=(TestY[:n2,:]==TestY_SVMrbf)\n",
    "print('RBF SVM on NoLeaverN, Test Set performance: accuracy ',TestSetPrediction_SVMrbf.sum()*100/len(TestSetPrediction_SVMrbf),' %; ',TestSetPrediction_SVMrbf.sum(),' predictions correct out of ',len(TestSetPrediction_SVMrbf),' matches')"
   ]
  },
  {
   "cell_type": "code",
   "execution_count": null,
   "metadata": {
    "collapsed": true
   },
   "outputs": [],
   "source": []
  },
  {
   "cell_type": "code",
   "execution_count": null,
   "metadata": {
    "collapsed": true
   },
   "outputs": [],
   "source": []
  },
  {
   "cell_type": "code",
   "execution_count": null,
   "metadata": {
    "collapsed": true
   },
   "outputs": [],
   "source": []
  },
  {
   "cell_type": "code",
   "execution_count": null,
   "metadata": {
    "collapsed": true
   },
   "outputs": [],
   "source": []
  }
 ],
 "metadata": {
  "kernelspec": {
   "display_name": "Python 3",
   "language": "python",
   "name": "python3"
  },
  "language_info": {
   "codemirror_mode": {
    "name": "ipython",
    "version": 3
   },
   "file_extension": ".py",
   "mimetype": "text/x-python",
   "name": "python",
   "nbconvert_exporter": "python",
   "pygments_lexer": "ipython3",
   "version": "3.6.1"
  }
 },
 "nbformat": 4,
 "nbformat_minor": 2
}
