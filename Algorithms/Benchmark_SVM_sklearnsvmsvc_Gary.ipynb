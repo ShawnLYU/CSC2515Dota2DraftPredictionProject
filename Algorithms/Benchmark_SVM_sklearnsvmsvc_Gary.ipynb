{
 "cells": [
  {
   "cell_type": "code",
   "execution_count": 1,
   "metadata": {},
   "outputs": [],
   "source": [
    "import numpy as np\n",
    "import pandas as pd\n",
    "from scipy import sparse\n",
    "pd.options.display.max_rows = 15\n",
    "from sklearn import svm"
   ]
  },
  {
   "cell_type": "code",
   "execution_count": 8,
   "metadata": {},
   "outputs": [
    {
     "name": "stdout",
     "output_type": "stream",
     "text": [
      "trainX_20000 Input Matrix Shape  20000 x 226 , trainY_20000 Shape  20000 x 1\n"
     ]
    }
   ],
   "source": [
    "# # Form a small training set due to SVM slow in training on large datasets\n",
    "# trainX=sparse.load_npz('../data/trainsetInputVector_sparse.npz')\n",
    "# trainY=pd.read_csv('../data/trainsetResult.csv',header=None)\n",
    "# small_size=100000\n",
    "# trainX_100000=trainX[0:small_size,:]\n",
    "# trainY_100000=trainY.iloc[0:small_size,:]\n",
    "# print('trainX_100000 Input Matrix Shape ',trainX_100000.shape[0],'x',trainX_100000.shape[1],', trainY_100000 Shape ',trainY_100000.shape[0],'x',trainY_100000.shape[1])\n",
    "# sparse.save_npz('trainsetInputVector_100000_sparse.npz',trainX_100000)\n",
    "# trainY_100000.to_csv('trainsetResult_100000.csv',index=False,header=None)\n",
    "\n",
    "# # Form an even smaller training set due to rbf_SVM very slow when scaling to dataset more than 10e5 size\n",
    "# trainX=sparse.load_npz('../data/trainsetInputVector_sparse.npz')\n",
    "# trainY=pd.read_csv('../data/trainsetResult.csv',header=None)\n",
    "# small_size=20000\n",
    "# trainX_20000=trainX[0:small_size,:]\n",
    "# trainY_20000=trainY.iloc[0:small_size,:]\n",
    "# print('trainX_20000 Input Matrix Shape ',trainX_20000.shape[0],'x',trainX_20000.shape[1],', trainY_20000 Shape ',trainY_20000.shape[0],'x',trainY_20000.shape[1])\n",
    "# sparse.save_npz('trainsetInputVector_20000_sparse.npz',trainX_20000)\n",
    "# trainY_20000.to_csv('trainsetResult_20000.csv',index=False,header=None)"
   ]
  },
  {
   "cell_type": "code",
   "execution_count": 2,
   "metadata": {},
   "outputs": [
    {
     "name": "stdout",
     "output_type": "stream",
     "text": [
      "Training Input Matrix Shape  100000 x 226 , Target Shape  100000 x 1\n"
     ]
    }
   ],
   "source": [
    "# Note that SVM, especially rbf_SVM, scales very badly with training sample number, so resort to use only 100000 training set\n",
    "# trainX=sparse.load_npz('../data/trainsetInputVector_sparse.npz')\n",
    "# trainY=pd.read_csv('../data/trainsetResult.csv',header=None)\n",
    "trainX=sparse.load_npz('../data/trainsetInputVector_100000_sparse.npz')\n",
    "trainY=pd.read_csv('../data/trainsetResult_100000.csv',header=None)\n",
    "print('Training Input Matrix Shape ',trainX.shape[0],'x',trainX.shape[1],', Target Shape ',trainY.shape[0],'x',trainY.shape[1])"
   ]
  },
  {
   "cell_type": "code",
   "execution_count": 3,
   "metadata": {},
   "outputs": [
    {
     "name": "stdout",
     "output_type": "stream",
     "text": [
      "Linear SVM Training Set performance: accuracy  62.66  %;  62660  predictions correct out of  100000  matches\n"
     ]
    }
   ],
   "source": [
    "svmclf_lin=svm.LinearSVC()\n",
    "svmclf_lin.fit(trainX,trainY.values.reshape((trainY.shape[0],)))\n",
    "trainY_lin_pred=pd.DataFrame(svmclf_lin.predict(trainX).reshape((trainX.shape[0],1)), columns=['Result_pred'])\n",
    "TrainingSetPrediction_lin=(trainY.values==trainY_lin_pred.values)\n",
    "print('Linear SVM Training Set performance: accuracy ',TrainingSetPrediction_lin.sum()*100/len(TrainingSetPrediction_lin),' %; ',TrainingSetPrediction_lin.sum(),' predictions correct out of ',len(TrainingSetPrediction_lin),' matches')"
   ]
  },
  {
   "cell_type": "code",
   "execution_count": 4,
   "metadata": {},
   "outputs": [],
   "source": [
    "import pickle\n",
    "pickle.dump(svmclf_lin,open('Benchmark_SVM_lin_model.p','wb'))"
   ]
  },
  {
   "cell_type": "code",
   "execution_count": 5,
   "metadata": {},
   "outputs": [
    {
     "name": "stdout",
     "output_type": "stream",
     "text": [
      "Linear SVM Validation Set performance: accuracy  62.20216383470101  %;  946442  predictions correct out of  1521558  matches\n"
     ]
    }
   ],
   "source": [
    "validX=sparse.load_npz('../data/validsetInputVector_sparse.npz')\n",
    "validY=pd.read_csv('../data/validsetResult.csv',header=None)\n",
    "validY_pred_lin=pd.DataFrame(svmclf_lin.predict(validX).reshape((validX.shape[0],1)), columns=['Linear SVM Validation Result Prediction'])\n",
    "ValidationSetPrediction_lin=(validY.values==validY_pred_lin.values)\n",
    "print('Linear SVM Validation Set performance: accuracy ',ValidationSetPrediction_lin.sum()*100/len(ValidationSetPrediction_lin),' %; ',ValidationSetPrediction_lin.sum(),' predictions correct out of ',len(ValidationSetPrediction_lin),' matches')"
   ]
  },
  {
   "cell_type": "code",
   "execution_count": 6,
   "metadata": {},
   "outputs": [
    {
     "name": "stdout",
     "output_type": "stream",
     "text": [
      "Linear SVM Tset Set performance: accuracy  62.130723902736534  %;  945355  predictions correct out of  1521558  matches\n"
     ]
    }
   ],
   "source": [
    "testX=sparse.load_npz('../data/testsetInputVector_sparse.npz')\n",
    "testY=pd.read_csv('../data/testsetResult.csv',header=None)\n",
    "testY_pred_lin=pd.DataFrame(svmclf_lin.predict(testX).reshape((testX.shape[0],1)), columns=['Linear SVM Test Result Prediction'])\n",
    "TestSetPrediction_lin=(testY.values==testY_pred_lin.values)\n",
    "print('Linear SVM Tset Set performance: accuracy ',TestSetPrediction_lin.sum()*100/len(TestSetPrediction_lin),' %; ',TestSetPrediction_lin.sum(),' predictions correct out of ',len(TestSetPrediction_lin),' matches')"
   ]
  },
  {
   "cell_type": "code",
   "execution_count": 9,
   "metadata": {},
   "outputs": [
    {
     "name": "stdout",
     "output_type": "stream",
     "text": [
      "Training Input Matrix Shape  20000 x 226 , Target Shape  20000 x 1\n"
     ]
    }
   ],
   "source": [
    "trainX=sparse.load_npz('../data/trainsetInputVector_20000_sparse.npz')\n",
    "trainY=pd.read_csv('../data/trainsetResult_20000.csv',header=None)\n",
    "print('Training Input Matrix Shape ',trainX.shape[0],'x',trainX.shape[1],', Target Shape ',trainY.shape[0],'x',trainY.shape[1])"
   ]
  },
  {
   "cell_type": "code",
   "execution_count": 11,
   "metadata": {},
   "outputs": [
    {
     "name": "stdout",
     "output_type": "stream",
     "text": [
      "RBF SVM Training Set performance: accuracy  62.86  %;  12572  predictions correct out of  20000  matches\n"
     ]
    }
   ],
   "source": [
    "# Use a smaller training set (20000) to train RBF SVM due to speed constraint\n",
    "# svmclf_rbf=svm.SVC()\n",
    "# svmclf_rbf.fit(trainX,trainY.values.reshape((trainY.shape[0],)))\n",
    "import pickle\n",
    "svmclf_rbf=pickle.load(open('Benchmark_SVM_rbf_model_Gary.p','rb'))\n",
    "trainY_rbf_pred=pd.DataFrame(svmclf_rbf.predict(trainX).reshape((trainX.shape[0],1)), columns=['Result_pred'])\n",
    "TrainingSetPrediction_rbf=(trainY.values==trainY_rbf_pred.values)\n",
    "print('RBF SVM Training Set performance: accuracy ',TrainingSetPrediction_rbf.sum()*100/len(TrainingSetPrediction_rbf),' %; ',TrainingSetPrediction_rbf.sum(),' predictions correct out of ',len(TrainingSetPrediction_rbf),' matches')"
   ]
  },
  {
   "cell_type": "code",
   "execution_count": 12,
   "metadata": {},
   "outputs": [],
   "source": [
    "# pickle.dump(svmclf_rbf,open('Benchmark_SVM_rbf_model.p','wb'))"
   ]
  },
  {
   "cell_type": "code",
   "execution_count": 14,
   "metadata": {},
   "outputs": [
    {
     "name": "stdout",
     "output_type": "stream",
     "text": [
      "Validation Input Matrix Shape  50000 x 226 , Target Shape  50000 x 1\n"
     ]
    }
   ],
   "source": [
    "validX=sparse.load_npz('../data/validsetInputVector_sparse.npz')\n",
    "validY=pd.read_csv('../data/validsetResult.csv',header=None)\n",
    "validX=validX[0:50000,:]\n",
    "validY=validY.iloc[0:50000,:]\n",
    "print('Validation Input Matrix Shape ',validX.shape[0],'x',validX.shape[1],', Target Shape ',validY.shape[0],'x',validY.shape[1])"
   ]
  },
  {
   "cell_type": "code",
   "execution_count": 15,
   "metadata": {},
   "outputs": [
    {
     "name": "stdout",
     "output_type": "stream",
     "text": [
      "RBF SVM Validation Set performance: accuracy  61.866  %;  30933  predictions correct out of  50000  matches\n"
     ]
    }
   ],
   "source": [
    "validY_pred_rbf=pd.DataFrame(svmclf_rbf.predict(validX).reshape((validX.shape[0],1)), columns=['RBF SVM Validation Result Prediction'])\n",
    "ValidationSetPrediction_rbf=(validY.values==validY_pred_rbf.values)\n",
    "print('RBF SVM Validation Set performance: accuracy ',ValidationSetPrediction_rbf.sum()*100/len(ValidationSetPrediction_rbf),' %; ',ValidationSetPrediction_rbf.sum(),' predictions correct out of ',len(ValidationSetPrediction_rbf),' matches')"
   ]
  },
  {
   "cell_type": "code",
   "execution_count": 16,
   "metadata": {},
   "outputs": [
    {
     "name": "stdout",
     "output_type": "stream",
     "text": [
      "Test Input Matrix Shape  50000 x 226 , Target Shape  50000 x 1\n"
     ]
    }
   ],
   "source": [
    "testX=sparse.load_npz('../data/testsetInputVector_sparse.npz')\n",
    "testY=pd.read_csv('../data/testsetResult.csv',header=None)\n",
    "testX=testX[0:50000,:]\n",
    "testY=testY.iloc[0:50000,:]\n",
    "print('Test Input Matrix Shape ',testX.shape[0],'x',testX.shape[1],', Target Shape ',testY.shape[0],'x',testY.shape[1])"
   ]
  },
  {
   "cell_type": "code",
   "execution_count": 17,
   "metadata": {},
   "outputs": [
    {
     "name": "stdout",
     "output_type": "stream",
     "text": [
      "RBF SVM Test Set performance: accuracy  61.828  %;  30914  predictions correct out of  50000  matches\n"
     ]
    }
   ],
   "source": [
    "testY_pred_rbf=pd.DataFrame(svmclf_rbf.predict(testX).reshape((testX.shape[0],1)), columns=['RBF SVM Test Result Prediction'])\n",
    "TestSetPrediction_rbf=(testY.values==testY_pred_rbf.values)\n",
    "print('RBF SVM Test Set performance: accuracy ',TestSetPrediction_rbf.sum()*100/len(TestSetPrediction_rbf),' %; ',TestSetPrediction_rbf.sum(),' predictions correct out of ',len(TestSetPrediction_rbf),' matches')"
   ]
  }
 ],
 "metadata": {
  "kernelspec": {
   "display_name": "Python 3",
   "language": "python",
   "name": "python3"
  },
  "language_info": {
   "codemirror_mode": {
    "name": "ipython",
    "version": 3
   },
   "file_extension": ".py",
   "mimetype": "text/x-python",
   "name": "python",
   "nbconvert_exporter": "python",
   "pygments_lexer": "ipython3",
   "version": "3.6.5"
  }
 },
 "nbformat": 4,
 "nbformat_minor": 2
}
