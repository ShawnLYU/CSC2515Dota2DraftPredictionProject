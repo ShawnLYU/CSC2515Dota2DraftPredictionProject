{
 "cells": [
  {
   "cell_type": "code",
   "execution_count": 4,
   "metadata": {
    "collapsed": true
   },
   "outputs": [],
   "source": [
    "import numpy as np\n",
    "import pandas as pd"
   ]
  },
  {
   "cell_type": "code",
   "execution_count": null,
   "metadata": {
    "collapsed": true
   },
   "outputs": [],
   "source": [
    "train=pd.read_csv('../data/Semenov2017Data_train.csv')\n",
    "trainY=train.loc[:,'radiant_win']\n",
    "train_heroes=train.iloc[:,15:25]\n",
    "nheroes_train=train_heroes.max().max()\n",
    "nmatches_train=train.shape[0]\n",
    "trainX=np.zeros((nmatches_train,2*nheroes_train))\n",
    "for i in range(nmatches_train):\n",
    "    if (i%10000==0):\n",
    "        print(i,' out of ',nmatches_train)\n",
    "    trainX[0,train_heroes.iloc[0,0:5].values-1]=np.ones(5)\n",
    "    trainX[0,train_heroes.iloc[0,5:10].values-1+nheroes]=np.ones(5)\n",
    "\n",
    "trainY.to_csv('trainsetResult.csv',index=False)\n",
    "df_trainX=pd.DataFrame(validX)\n",
    "df_trainX.to_csv('trainsetInputVector.csv',index=False)"
   ]
  },
  {
   "cell_type": "code",
   "execution_count": 2,
   "metadata": {
    "collapsed": true
   },
   "outputs": [],
   "source": [
    "valid=pd.read_csv('../data/Semenov2017Data_valid.csv')\n",
    "validY=valid.loc[:,'radiant_win']\n",
    "valid_heroes=valid.iloc[:,15:25]\n",
    "nheroes_valid=valid_heroes.max().max()\n",
    "nmatches_valid=valid.shape[0]\n",
    "validX=np.zeros((nmatches_valid,2*nheroes_valid))\n",
    "for i in range(nmatches_valid):\n",
    "    if (i%10000==0):\n",
    "        print(i,' out of ',nmatches_valid)\n",
    "    validX[0,valid_heroes.iloc[0,0:5].values-1]=np.ones(5)\n",
    "    validX[0,valid_heroes.iloc[0,5:10].values-1+nheroes]=np.ones(5)\n",
    "\n",
    "validY.to_csv('validsetResult.csv',index=False)\n",
    "df_validX=pd.DataFrame(validX)\n",
    "df_validX.to_csv('validsetInputVector.csv',index=False)"
   ]
  },
  {
   "cell_type": "code",
   "execution_count": 3,
   "metadata": {},
   "outputs": [
    {
     "name": "stdout",
     "output_type": "stream",
     "text": [
      "100  out of  10000\n"
     ]
    }
   ],
   "source": [
    "test=pd.read_csv('../data/Semenov2017Data_test.csv')\n",
    "testY=test.loc[:,'radiant_win']\n",
    "test_heroes=test.iloc[:,15:25]\n",
    "nheroes_test=test_heroes.max().max()\n",
    "nmatches_test=test.shape[0]\n",
    "testX=np.zeros((nmatches_test,2*nheroes_test))\n",
    "for i in range(nmatches_test):\n",
    "    if (i%10000==0):\n",
    "        print(i,' out of ',nmatches_test)\n",
    "    testX[0,test_heroes.iloc[0,0:5].values-1]=np.ones(5)\n",
    "    testX[0,test_heroes.iloc[0,5:10].values-1+nheroes]=np.ones(5)\n",
    "\n",
    "testY.to_csv('testsetResult.csv',index=False)\n",
    "df_testX=pd.DataFrame(testX)\n",
    "df_testX.to_csv('testsetInputVector.csv',index=False)"
   ]
  },
  {
   "cell_type": "code",
   "execution_count": null,
   "metadata": {
    "collapsed": true
   },
   "outputs": [],
   "source": []
  }
 ],
 "metadata": {
  "kernelspec": {
   "display_name": "Python 3",
   "language": "python",
   "name": "python3"
  },
  "language_info": {
   "codemirror_mode": {
    "name": "ipython",
    "version": 3
   },
   "file_extension": ".py",
   "mimetype": "text/x-python",
   "name": "python",
   "nbconvert_exporter": "python",
   "pygments_lexer": "ipython3",
   "version": "3.6.1"
  }
 },
 "nbformat": 4,
 "nbformat_minor": 2
}
