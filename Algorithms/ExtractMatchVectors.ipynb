{
 "cells": [
  {
   "cell_type": "code",
   "execution_count": 1,
   "metadata": {},
   "outputs": [],
   "source": [
    "import numpy as np\n",
    "import pandas as pd"
   ]
  },
  {
   "cell_type": "code",
   "execution_count": 2,
   "metadata": {},
   "outputs": [
    {
     "name": "stdout",
     "output_type": "stream",
     "text": [
      "0  out of  2028742\n",
      "50000  out of  2028742\n",
      "100000  out of  2028742\n",
      "150000  out of  2028742\n",
      "200000  out of  2028742\n",
      "250000  out of  2028742\n",
      "300000  out of  2028742\n",
      "350000  out of  2028742\n",
      "400000  out of  2028742\n",
      "450000  out of  2028742\n",
      "500000  out of  2028742\n",
      "550000  out of  2028742\n",
      "600000  out of  2028742\n",
      "650000  out of  2028742\n",
      "700000  out of  2028742\n",
      "750000  out of  2028742\n",
      "800000  out of  2028742\n",
      "850000  out of  2028742\n",
      "900000  out of  2028742\n",
      "950000  out of  2028742\n",
      "1000000  out of  2028742\n",
      "1050000  out of  2028742\n",
      "1100000  out of  2028742\n",
      "1150000  out of  2028742\n",
      "1200000  out of  2028742\n",
      "1250000  out of  2028742\n",
      "1300000  out of  2028742\n",
      "1350000  out of  2028742\n",
      "1400000  out of  2028742\n",
      "1450000  out of  2028742\n",
      "1500000  out of  2028742\n",
      "1550000  out of  2028742\n",
      "1600000  out of  2028742\n",
      "1650000  out of  2028742\n",
      "1700000  out of  2028742\n",
      "1750000  out of  2028742\n",
      "1800000  out of  2028742\n",
      "1850000  out of  2028742\n",
      "1900000  out of  2028742\n",
      "1950000  out of  2028742\n",
      "2000000  out of  2028742\n"
     ]
    },
    {
     "ename": "NameError",
     "evalue": "name 'validX' is not defined",
     "output_type": "error",
     "traceback": [
      "\u001b[1;31m---------------------------------------------------------------------------\u001b[0m",
      "\u001b[1;31mNameError\u001b[0m                                 Traceback (most recent call last)",
      "\u001b[1;32m<ipython-input-2-ce5ef521c3ee>\u001b[0m in \u001b[0;36m<module>\u001b[1;34m()\u001b[0m\n\u001b[0;32m     12\u001b[0m \u001b[1;33m\u001b[0m\u001b[0m\n\u001b[0;32m     13\u001b[0m \u001b[0mtrainY\u001b[0m\u001b[1;33m.\u001b[0m\u001b[0mto_csv\u001b[0m\u001b[1;33m(\u001b[0m\u001b[1;34m'trainsetResult.csv'\u001b[0m\u001b[1;33m,\u001b[0m\u001b[0mindex\u001b[0m\u001b[1;33m=\u001b[0m\u001b[1;32mFalse\u001b[0m\u001b[1;33m)\u001b[0m\u001b[1;33m\u001b[0m\u001b[0m\n\u001b[1;32m---> 14\u001b[1;33m \u001b[0mdf_trainX\u001b[0m\u001b[1;33m=\u001b[0m\u001b[0mpd\u001b[0m\u001b[1;33m.\u001b[0m\u001b[0mDataFrame\u001b[0m\u001b[1;33m(\u001b[0m\u001b[0mvalidX\u001b[0m\u001b[1;33m)\u001b[0m\u001b[1;33m\u001b[0m\u001b[0m\n\u001b[0m\u001b[0;32m     15\u001b[0m \u001b[0mdf_trainX\u001b[0m\u001b[1;33m.\u001b[0m\u001b[0mto_csv\u001b[0m\u001b[1;33m(\u001b[0m\u001b[1;34m'trainsetInputVector.csv'\u001b[0m\u001b[1;33m,\u001b[0m\u001b[0mindex\u001b[0m\u001b[1;33m=\u001b[0m\u001b[1;32mFalse\u001b[0m\u001b[1;33m)\u001b[0m\u001b[1;33m\u001b[0m\u001b[0m\n",
      "\u001b[1;31mNameError\u001b[0m: name 'validX' is not defined"
     ]
    }
   ],
   "source": [
    "train=pd.read_csv('../data/Semenov2017Data_train.csv')\n",
    "trainY=train.loc[:,'radiant_win']\n",
    "train_heroes=train.iloc[:,15:25]\n",
    "nheroes_train=train_heroes.max().max()\n",
    "nmatches_train=train.shape[0]\n",
    "trainX=np.zeros((nmatches_train,2*nheroes_train))\n",
    "for i in range(nmatches_train):\n",
    "    if (i%50000==0):\n",
    "        print(i,' out of ',nmatches_train)\n",
    "    trainX[0,train_heroes.iloc[0,0:5].values-1]=np.ones(5)\n",
    "    trainX[0,train_heroes.iloc[0,5:10].values-1+nheroes_train]=np.ones(5)\n",
    "\n",
    "trainY.to_csv('trainsetResult.csv',index=False)\n",
    "df_trainX=pd.DataFrame(trainX)\n",
    "df_trainX.to_csv('trainsetInputVector.csv',index=False)"
   ]
  },
  {
   "cell_type": "code",
   "execution_count": 2,
   "metadata": {},
   "outputs": [
    {
     "name": "stdout",
     "output_type": "stream",
     "text": [
      "0  out of  1521558\n",
      "50000  out of  1521558\n",
      "100000  out of  1521558\n",
      "150000  out of  1521558\n",
      "200000  out of  1521558\n",
      "250000  out of  1521558\n",
      "300000  out of  1521558\n",
      "350000  out of  1521558\n",
      "400000  out of  1521558\n",
      "450000  out of  1521558\n",
      "500000  out of  1521558\n",
      "550000  out of  1521558\n",
      "600000  out of  1521558\n",
      "650000  out of  1521558\n",
      "700000  out of  1521558\n",
      "750000  out of  1521558\n",
      "800000  out of  1521558\n",
      "850000  out of  1521558\n",
      "900000  out of  1521558\n",
      "950000  out of  1521558\n",
      "1000000  out of  1521558\n",
      "1050000  out of  1521558\n",
      "1100000  out of  1521558\n",
      "1150000  out of  1521558\n",
      "1200000  out of  1521558\n",
      "1250000  out of  1521558\n",
      "1300000  out of  1521558\n",
      "1350000  out of  1521558\n",
      "1400000  out of  1521558\n",
      "1450000  out of  1521558\n",
      "1500000  out of  1521558\n"
     ]
    }
   ],
   "source": [
    "valid=pd.read_csv('../data/Semenov2017Data_valid.csv')\n",
    "validY=valid.loc[:,'radiant_win']\n",
    "valid_heroes=valid.iloc[:,15:25]\n",
    "nheroes_valid=valid_heroes.max().max()\n",
    "nmatches_valid=valid.shape[0]\n",
    "validX=np.zeros((nmatches_valid,2*nheroes_valid))\n",
    "for i in range(nmatches_valid):\n",
    "    if (i%50000==0):\n",
    "        print(i,' out of ',nmatches_valid)\n",
    "    validX[0,valid_heroes.iloc[0,0:5].values-1]=np.ones(5)\n",
    "    validX[0,valid_heroes.iloc[0,5:10].values-1+nheroes_valid]=np.ones(5)\n",
    "\n",
    "validY.to_csv('validsetResult.csv',index=False)\n",
    "df_validX=pd.DataFrame(validX)\n",
    "df_validX.to_csv('validsetInputVector.csv',index=False)"
   ]
  },
  {
   "cell_type": "code",
   "execution_count": 2,
   "metadata": {},
   "outputs": [
    {
     "name": "stdout",
     "output_type": "stream",
     "text": [
      "0  out of  1521558\n",
      "50000  out of  1521558\n",
      "100000  out of  1521558\n",
      "150000  out of  1521558\n",
      "200000  out of  1521558\n",
      "250000  out of  1521558\n",
      "300000  out of  1521558\n",
      "350000  out of  1521558\n",
      "400000  out of  1521558\n",
      "450000  out of  1521558\n",
      "500000  out of  1521558\n",
      "550000  out of  1521558\n",
      "600000  out of  1521558\n",
      "650000  out of  1521558\n",
      "700000  out of  1521558\n",
      "750000  out of  1521558\n",
      "800000  out of  1521558\n",
      "850000  out of  1521558\n",
      "900000  out of  1521558\n",
      "950000  out of  1521558\n",
      "1000000  out of  1521558\n",
      "1050000  out of  1521558\n",
      "1100000  out of  1521558\n",
      "1150000  out of  1521558\n",
      "1200000  out of  1521558\n",
      "1250000  out of  1521558\n",
      "1300000  out of  1521558\n",
      "1350000  out of  1521558\n",
      "1400000  out of  1521558\n",
      "1450000  out of  1521558\n",
      "1500000  out of  1521558\n"
     ]
    }
   ],
   "source": [
    "test=pd.read_csv('../data/Semenov2017Data_test.csv')\n",
    "testY=test.loc[:,'radiant_win']\n",
    "test_heroes=test.iloc[:,15:25]\n",
    "nheroes_test=test_heroes.max().max()\n",
    "nmatches_test=test.shape[0]\n",
    "testX=np.zeros((nmatches_test,2*nheroes_test))\n",
    "for i in range(nmatches_test):\n",
    "    if (i%50000==0):\n",
    "        print(i,' out of ',nmatches_test)\n",
    "    testX[0,test_heroes.iloc[0,0:5].values-1]=np.ones(5)\n",
    "    testX[0,test_heroes.iloc[0,5:10].values-1+nheroes_test]=np.ones(5)\n",
    "\n",
    "testY.to_csv('testsetResult.csv',index=False)\n",
    "df_testX=pd.DataFrame(testX)\n",
    "df_testX.to_csv('testsetInputVector.csv',index=False)"
   ]
  },
  {
   "cell_type": "code",
   "execution_count": null,
   "metadata": {},
   "outputs": [],
   "source": []
  },
  {
   "cell_type": "code",
   "execution_count": null,
   "metadata": {},
   "outputs": [],
   "source": []
  },
  {
   "cell_type": "code",
   "execution_count": null,
   "metadata": {},
   "outputs": [],
   "source": []
  }
 ],
 "metadata": {
  "kernelspec": {
   "display_name": "Python 3",
   "language": "python",
   "name": "python3"
  },
  "language_info": {
   "codemirror_mode": {
    "name": "ipython",
    "version": 3
   },
   "file_extension": ".py",
   "mimetype": "text/x-python",
   "name": "python",
   "nbconvert_exporter": "python",
   "pygments_lexer": "ipython3",
   "version": "3.6.5"
  }
 },
 "nbformat": 4,
 "nbformat_minor": 2
}
