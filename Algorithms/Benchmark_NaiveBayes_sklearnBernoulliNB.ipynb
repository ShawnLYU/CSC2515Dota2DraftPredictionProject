{
 "cells": [
  {
   "cell_type": "code",
   "execution_count": 1,
   "metadata": {
    "collapsed": true
   },
   "outputs": [],
   "source": [
    "import numpy as np\n",
    "import pandas as pd\n",
    "from scipy import sparse\n",
    "from sklearn.naive_bayes import BernoulliNB\n",
    "pd.options.display.max_rows = 15"
   ]
  },
  {
   "cell_type": "code",
   "execution_count": 2,
   "metadata": {
    "collapsed": true
   },
   "outputs": [],
   "source": [
    "trainX=sparse.load_npz('../data/trainsetInputVector_sparse.npz')\n",
    "trainY=pd.read_csv('../data/trainsetResult.csv',header=None)\n",
    "# trainX=pd.read_csv('../data/trainsetInputVector_small.csv')\n",
    "# trainY=pd.read_csv('../data/trainsetResult_small.csv',header=None)"
   ]
  },
  {
   "cell_type": "code",
   "execution_count": 3,
   "metadata": {},
   "outputs": [
    {
     "data": {
      "text/plain": [
       "<2028742x226 sparse matrix of type '<class 'numpy.float64'>'\n",
       "\twith 20287414 stored elements in Compressed Sparse Row format>"
      ]
     },
     "execution_count": 3,
     "metadata": {},
     "output_type": "execute_result"
    }
   ],
   "source": [
    "trainX"
   ]
  },
  {
   "cell_type": "code",
   "execution_count": 4,
   "metadata": {},
   "outputs": [
    {
     "data": {
      "text/html": [
       "<div>\n",
       "<style>\n",
       "    .dataframe thead tr:only-child th {\n",
       "        text-align: right;\n",
       "    }\n",
       "\n",
       "    .dataframe thead th {\n",
       "        text-align: left;\n",
       "    }\n",
       "\n",
       "    .dataframe tbody tr th {\n",
       "        vertical-align: top;\n",
       "    }\n",
       "</style>\n",
       "<table border=\"1\" class=\"dataframe\">\n",
       "  <thead>\n",
       "    <tr style=\"text-align: right;\">\n",
       "      <th></th>\n",
       "      <th>Result</th>\n",
       "    </tr>\n",
       "  </thead>\n",
       "  <tbody>\n",
       "    <tr>\n",
       "      <th>0</th>\n",
       "      <td>1</td>\n",
       "    </tr>\n",
       "    <tr>\n",
       "      <th>1</th>\n",
       "      <td>0</td>\n",
       "    </tr>\n",
       "    <tr>\n",
       "      <th>2</th>\n",
       "      <td>1</td>\n",
       "    </tr>\n",
       "    <tr>\n",
       "      <th>3</th>\n",
       "      <td>0</td>\n",
       "    </tr>\n",
       "    <tr>\n",
       "      <th>4</th>\n",
       "      <td>0</td>\n",
       "    </tr>\n",
       "    <tr>\n",
       "      <th>5</th>\n",
       "      <td>1</td>\n",
       "    </tr>\n",
       "    <tr>\n",
       "      <th>6</th>\n",
       "      <td>0</td>\n",
       "    </tr>\n",
       "    <tr>\n",
       "      <th>...</th>\n",
       "      <td>...</td>\n",
       "    </tr>\n",
       "    <tr>\n",
       "      <th>2028735</th>\n",
       "      <td>1</td>\n",
       "    </tr>\n",
       "    <tr>\n",
       "      <th>2028736</th>\n",
       "      <td>0</td>\n",
       "    </tr>\n",
       "    <tr>\n",
       "      <th>2028737</th>\n",
       "      <td>0</td>\n",
       "    </tr>\n",
       "    <tr>\n",
       "      <th>2028738</th>\n",
       "      <td>1</td>\n",
       "    </tr>\n",
       "    <tr>\n",
       "      <th>2028739</th>\n",
       "      <td>0</td>\n",
       "    </tr>\n",
       "    <tr>\n",
       "      <th>2028740</th>\n",
       "      <td>1</td>\n",
       "    </tr>\n",
       "    <tr>\n",
       "      <th>2028741</th>\n",
       "      <td>0</td>\n",
       "    </tr>\n",
       "  </tbody>\n",
       "</table>\n",
       "<p>2028742 rows × 1 columns</p>\n",
       "</div>"
      ],
      "text/plain": [
       "         Result\n",
       "0             1\n",
       "1             0\n",
       "2             1\n",
       "3             0\n",
       "4             0\n",
       "5             1\n",
       "6             0\n",
       "...         ...\n",
       "2028735       1\n",
       "2028736       0\n",
       "2028737       0\n",
       "2028738       1\n",
       "2028739       0\n",
       "2028740       1\n",
       "2028741       0\n",
       "\n",
       "[2028742 rows x 1 columns]"
      ]
     },
     "execution_count": 4,
     "metadata": {},
     "output_type": "execute_result"
    }
   ],
   "source": [
    "trainY.columns=['Result']\n",
    "trainY"
   ]
  },
  {
   "cell_type": "code",
   "execution_count": 5,
   "metadata": {},
   "outputs": [
    {
     "data": {
      "text/plain": [
       "matrix([[ 165375.,   73939.,   44794.,   59974.,  124248.,   83465.,\n",
       "          197506.,  285994.,  150520.,   82353.,  137776.,   60047.,\n",
       "           52685.,  332289.,   30779.,   79714.,   46788.,  148329.,\n",
       "           76529.,  111676.,  226263.,  221690.,   55256.,       0.,\n",
       "          170946.,  164155.,   87551.,  145752.,   69270.,  139076.,\n",
       "           70055.,   69151.,   50266.,   53840.,  106935.,  151907.,\n",
       "           47561.,   24465.,   99770.,   57048.,   85711.,  121342.,\n",
       "           55485.,  199662.,   46399.,   80473.,   72021.,   48253.,\n",
       "           79412.,  115859.,   51724.,   20954.,  146580.,   96096.,\n",
       "           42114.,   64776.,  143796.,   55356.,   48884.,   46131.,\n",
       "           21631.,  146072.,   84850.,   49827.,   28574.,   16137.,\n",
       "          292161.,   71010.,   53345.,  131263.,  122344.,   67331.,\n",
       "          135037.,  446636.,  126501.,  192145.,   27513.,   17840.,\n",
       "           24429.,   53780.,   61978.,   22216.,   32798.,   87314.,\n",
       "           68815.,  101054.,   67178.,   76741.,   18636.,   31908.,\n",
       "           19834.,   13252.,  191910.,   74923.,   44018.,   40373.,\n",
       "           72119.,   39001.,   90663.,   64070.,   58508.,   64430.,\n",
       "           18873.,  304772.,   27078.,  142079.,   54029.,       0.,\n",
       "           23237.,   49317.,   31048.,   33753.,   32545.,  171907.,\n",
       "           73879.,   44094.,   60706.,  122901.,   80752.,  197519.,\n",
       "          290119.,  143608.,   82744.,  129174.,   60957.,   53697.,\n",
       "          319601.,   30956.,   79172.,   47411.,  150505.,   77379.,\n",
       "          111199.,  233320.,  222927.,   55167.,       0.,  173853.,\n",
       "          162880.,   87906.,  144553.,   70024.,  138736.,   70776.,\n",
       "           71190.,   52041.,   54308.,  108033.,  150635.,   48105.,\n",
       "           23985.,  102723.,   55602.,   87305.,  121267.,   56414.,\n",
       "          199073.,   46057.,   79108.,   72797.,   47961.,   78970.,\n",
       "          114204.,   51796.,   21238.,  129194.,   99544.,   42842.,\n",
       "           66001.,  142377.,   56251.,   49702.,   46396.,   21972.,\n",
       "          148275.,   85680.,   50620.,   28964.,   16113.,  291648.,\n",
       "           71036.,   54053.,  132608.,  123515.,   68560.,  132956.,\n",
       "          443112.,  125852.,  193173.,   27643.,   17791.,   24069.,\n",
       "           54796.,   61120.,   21758.,   32331.,   89617.,   68218.,\n",
       "          101139.,   67477.,   77630.,   18831.,   31716.,   19849.,\n",
       "           13646.,  189981.,   69761.,   44014.,   40838.,   73078.,\n",
       "           39348.,   91564.,   64166.,   58923.,   63721.,   18748.,\n",
       "          317168.,   26794.,  144365.,   52610.,       0.,   23439.,\n",
       "           49286.,   30978.,   33640.,   32022.]])"
      ]
     },
     "execution_count": 5,
     "metadata": {},
     "output_type": "execute_result"
    }
   ],
   "source": [
    "trainX.sum(axis=0) # Note that hero pick frequency is not symmetrical? should consider switching team sides and results to force symmetry in model results?"
   ]
  },
  {
   "cell_type": "code",
   "execution_count": 6,
   "metadata": {},
   "outputs": [
    {
     "data": {
      "text/plain": [
       "matrix([[ 10.],\n",
       "        [ 10.],\n",
       "        [ 10.],\n",
       "        ..., \n",
       "        [ 10.],\n",
       "        [ 10.],\n",
       "        [ 10.]])"
      ]
     },
     "execution_count": 6,
     "metadata": {},
     "output_type": "execute_result"
    }
   ],
   "source": [
    "trainX.sum(axis=1)"
   ]
  },
  {
   "cell_type": "code",
   "execution_count": 8,
   "metadata": {},
   "outputs": [
    {
     "name": "stdout",
     "output_type": "stream",
     "text": [
      "Training Set performance: accuracy  62.2153531597  %;  1262189  predictions correct out of  2028742  matches\n"
     ]
    }
   ],
   "source": [
    "NBclf=BernoulliNB()\n",
    "NBclf.fit(trainX,trainY.values.reshape((trainY.shape[0],)))\n",
    "trainY_pred=pd.DataFrame(NBclf.predict(trainX).reshape((trainX.shape[0],1)), columns=['Result_pred'])\n",
    "TrainingSetPrediction=(trainY.values==trainY_pred.values)\n",
    "print('Training Set performance: accuracy ',TrainingSetPrediction.sum()*100/len(TrainingSetPrediction),' %; ',TrainingSetPrediction.sum(),' predictions correct out of ',len(TrainingSetPrediction),' matches')"
   ]
  },
  {
   "cell_type": "code",
   "execution_count": 9,
   "metadata": {},
   "outputs": [
    {
     "name": "stdout",
     "output_type": "stream",
     "text": [
      "Validation Set performance: accuracy  62.2127450942  %;  946603  predictions correct out of  1521558  matches\n"
     ]
    }
   ],
   "source": [
    "validX=sparse.load_npz('../data/validsetInputVector_sparse.npz')\n",
    "validY=pd.read_csv('../data/validsetResult.csv',header=None)\n",
    "validY.columns=['Validation Result']\n",
    "validY_pred=pd.DataFrame(NBclf.predict(validX).reshape((validX.shape[0],1)), columns=['Validation Result Prediction'])\n",
    "ValidationSetPrediction=(validY.values==validY_pred.values)\n",
    "print('Validation Set performance: accuracy ',ValidationSetPrediction.sum()*100/len(ValidationSetPrediction),' %; ',ValidationSetPrediction.sum(),' predictions correct out of ',len(ValidationSetPrediction),' matches')"
   ]
  },
  {
   "cell_type": "code",
   "execution_count": 11,
   "metadata": {},
   "outputs": [
    {
     "name": "stdout",
     "output_type": "stream",
     "text": [
      "Test Set performance: accuracy  62.1249403572  %;  945267  predictions correct out of  1521558  matches\n"
     ]
    }
   ],
   "source": [
    "testX=sparse.load_npz('../data/testsetInputVector_sparse.npz')\n",
    "testY=pd.read_csv('../data/testsetResult.csv',header=None)\n",
    "testY.columns=['Test Result']\n",
    "testY_pred=pd.DataFrame(NBclf.predict(testX).reshape((testX.shape[0],1)), columns=['Testing Result Prediction'])\n",
    "TestSetPrediction=(testY.values==testY_pred.values)\n",
    "print('Test Set performance: accuracy ',TestSetPrediction.sum()*100/len(TestSetPrediction),' %; ',TestSetPrediction.sum(),' predictions correct out of ',len(TestSetPrediction),' matches')"
   ]
  }
 ],
 "metadata": {
  "kernelspec": {
   "display_name": "Python 3",
   "language": "python",
   "name": "python3"
  },
  "language_info": {
   "codemirror_mode": {
    "name": "ipython",
    "version": 3
   },
   "file_extension": ".py",
   "mimetype": "text/x-python",
   "name": "python",
   "nbconvert_exporter": "python",
   "pygments_lexer": "ipython3",
   "version": "3.6.1"
  }
 },
 "nbformat": 4,
 "nbformat_minor": 2
}
