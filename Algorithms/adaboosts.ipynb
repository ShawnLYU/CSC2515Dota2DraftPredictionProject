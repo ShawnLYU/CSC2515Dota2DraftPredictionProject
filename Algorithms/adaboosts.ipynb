{
 "cells": [
  {
   "cell_type": "markdown",
   "metadata": {},
   "source": [
    "# Imports"
   ]
  },
  {
   "cell_type": "code",
   "execution_count": 3,
   "metadata": {},
   "outputs": [],
   "source": [
    "import random\n",
    "import numpy as np\n",
    "import matplotlib.pyplot as plt\n",
    "\n",
    "from scipy import sparse\n",
    "from sklearn.ensemble import AdaBoostClassifier"
   ]
  },
  {
   "cell_type": "markdown",
   "metadata": {},
   "source": [
    "# Load data"
   ]
  },
  {
   "cell_type": "code",
   "execution_count": 2,
   "metadata": {},
   "outputs": [],
   "source": [
    "trainX=sparse.load_npz('../data/trainsetInputVector_sparse.npz')\n",
    "trainY = np.genfromtxt('../data/trainsetResult.csv', delimiter='\\n')\n",
    "\n",
    "validX=sparse.load_npz('../data/validsetInputVector_sparse.npz')\n",
    "validY = np.genfromtxt('../data/validsetResult.csv', delimiter='\\n')\n",
    "\n",
    "testX=sparse.load_npz('../data/testsetInputVector_sparse.npz')\n",
    "testY = np.genfromtxt('../data/testsetResult.csv', delimiter='\\n')"
   ]
  },
  {
   "cell_type": "markdown",
   "metadata": {},
   "source": [
    "# Original training time with the whole data and subset"
   ]
  },
  {
   "cell_type": "code",
   "execution_count": null,
   "metadata": {},
   "outputs": [],
   "source": [
    "import time"
   ]
  },
  {
   "cell_type": "code",
   "execution_count": null,
   "metadata": {},
   "outputs": [],
   "source": [
    "start_time = time.time()\n",
    "clf = svm.LinearSVC()\n",
    "clf.fit(trainX_sub, trainY_sub)\n",
    "clf.score(validX_sub,validY_sub)\n",
    "print(\"--- %s seconds ---\" % (time.time() - start_time))"
   ]
  },
  {
   "cell_type": "markdown",
   "metadata": {},
   "source": [
    "Outputs:  \n",
    "Score: 0.6235056435574589  \n",
    "Time:--- 213.39108681678772 seconds ---  "
   ]
  },
  {
   "cell_type": "code",
   "execution_count": null,
   "metadata": {},
   "outputs": [],
   "source": [
    "start_time = time.time()\n",
    "clf = svm.LinearSVC()\n",
    "clf.fit(trainX_sub, trainY_sub)\n",
    "clf.score(validX_sub,validY_sub)\n",
    "print(\"--- %s seconds ---\" % (time.time() - start_time))"
   ]
  },
  {
   "cell_type": "markdown",
   "metadata": {},
   "source": [
    "Outputs:   \n",
    "Score: 0.62531  \n",
    "Time:--- 8.010278701782227 seconds ---   \n",
    "Therefore, to make adaboost feasible, **sub dataset** would be used for training"
   ]
  },
  {
   "cell_type": "markdown",
   "metadata": {},
   "source": [
    "# Adaboost with SVM"
   ]
  },
  {
   "cell_type": "markdown",
   "metadata": {},
   "source": [
    "Firstly, let's try (at most) 100 estimators"
   ]
  },
  {
   "cell_type": "code",
   "execution_count": null,
   "metadata": {},
   "outputs": [],
   "source": [
    "clf = AdaBoostClassifier(base_estimator=svm.LinearSVC(), n_estimators=100, algorithm='SAMME')\n",
    "start_time = time.time()\n",
    "clf.fit(trainX_sub, trainY_sub)\n",
    "clf.score(validX_sub,validY_sub)\n",
    "print(\"--- %s seconds ---\" % (time.time() - start_time))"
   ]
  },
  {
   "cell_type": "markdown",
   "metadata": {},
   "source": [
    "Outputs  \n",
    "Score: 0.6253  \n",
    "Time: --- 12.578743696212769 seconds ---   "
   ]
  },
  {
   "cell_type": "markdown",
   "metadata": {},
   "source": [
    "Then, let's try adaboosts with different maximum estimators"
   ]
  },
  {
   "cell_type": "code",
   "execution_count": null,
   "metadata": {},
   "outputs": [],
   "source": [
    "# define a class to store each trained classifier\n",
    "class AdaboostWithSVM:\n",
    "    def __init__(self, clf, time, score):\n",
    "        self.clf = clf\n",
    "        self.time = time\n",
    "        self.score = score\n",
    "    def getTime():\n",
    "        return self.time\n",
    "    def getScore():\n",
    "        return self.score\n",
    "    def getClassifier():\n",
    "        return self.clf\n",
    "\n",
    "res = []\n",
    "for n_estimators in np.arange(1,200,10):\n",
    "    print('processing %d estimators' % n_estimators)\n",
    "    clf = AdaBoostClassifier(base_estimator=svm.LinearSVC(), n_estimators=n_estimators, algorithm='SAMME')\n",
    "    start_time = time.time()\n",
    "    clf.fit(trainX_sub, trainY_sub)\n",
    "    score = clf.score(validX_sub,validY_sub)\n",
    "    print(\"used time --- %s seconds ---\" % (time.time() - start_time))\n",
    "    res.append(AdaboostWithSVM(clf=clf, time=int(time.time() - start_time), score=score))"
   ]
  },
  {
   "cell_type": "markdown",
   "metadata": {},
   "source": [
    "Scores: [0.6213, 0.62131, 0.6213, 0.6213, 0.62131, 0.62131, 0.6213, 0.62133, 0.62131, 0.6213, 0.62131, 0.6213, 0.6213, 0.62132, 0.62131, 0.62132, 0.62131, 0.62131, 0.62131, 0.62131]"
   ]
  },
  {
   "cell_type": "code",
   "execution_count": 13,
   "metadata": {},
   "outputs": [
    {
     "data": {
      "image/png": "[encoded data removed]",
      "text/plain": [
       "<Figure size 432x288 with 1 Axes>"
      ]
     },
     "metadata": {
      "needs_background": "light"
     },
     "output_type": "display_data"
    }
   ],
   "source": [
    "res = [0.6213, 0.62131, 0.6213, 0.6213, 0.62131, 0.62131, 0.6213, 0.62133, 0.62131, 0.6213, 0.62131, 0.6213, 0.6213, 0.62132, 0.62131, 0.62132, 0.62131, 0.62131, 0.62131, 0.62131]\n",
    "plt.xlabel('n_estimators')\n",
    "plt.ylabel('Scores')\n",
    "plt.title('Scores for adaboost with different max estimators')\n",
    "plt.plot(np.arange(1,200,10), res)\n",
    "plt.grid(True)\n"
   ]
  },
  {
   "cell_type": "markdown",
   "metadata": {},
   "source": [
    "And the estimators for each adaboost is: [1, 3, 2, 3, 1, 1, 1, 1, 2, 3, 1, 2, 2, 1, 1, 4, 3, 4, 2, 2]"
   ]
  },
  {
   "cell_type": "code",
   "execution_count": 14,
   "metadata": {},
   "outputs": [
    {
     "data": {
      "image/png": "[encoded data removed]",
      "text/plain": [
       "<Figure size 432x288 with 1 Axes>"
      ]
     },
     "metadata": {
      "needs_background": "light"
     },
     "output_type": "display_data"
    }
   ],
   "source": [
    "res = [1, 3, 2, 3, 1, 1, 1, 1, 2, 3, 1, 2, 2, 1, 1, 4, 3, 4, 2, 2]\n",
    "plt.xlabel('n_estimators')\n",
    "plt.ylabel('# of estimators')\n",
    "plt.title('# of estimators for adaboost with different max estimators')\n",
    "plt.plot(np.arange(1,200,10), res)\n",
    "plt.grid(True)"
   ]
  },
  {
   "cell_type": "markdown",
   "metadata": {},
   "source": [
    "# Adaboost with Naive Bayes"
   ]
  },
  {
   "cell_type": "markdown",
   "metadata": {},
   "source": [
    "As NB is quite efficient, therefore the whole training and validation set would be applied instead of sub one"
   ]
  },
  {
   "cell_type": "code",
   "execution_count": null,
   "metadata": {},
   "outputs": [],
   "source": [
    "from sklearn.naive_bayes import BernoulliNB\n",
    "res_nb = []\n",
    "for n_estimators in np.arange(1,200,10):\n",
    "    print('processing %d estimators' % n_estimators)\n",
    "    clf = AdaBoostClassifier(base_estimator=BernoulliNB(), n_estimators=n_estimators, algorithm='SAMME')\n",
    "    start_time = time.time()\n",
    "    clf.fit(trainX, trainY)\n",
    "    score = clf.score(validX,validY)\n",
    "    print(\"used time --- %s seconds ---\" % (time.time() - start_time))\n",
    "    res.append(AdaboostWithSVM(clf=clf, time=int(time.time() - start_time), score=score))"
   ]
  },
  {
   "cell_type": "markdown",
   "metadata": {},
   "source": [
    "scores: [0.5304898005859783, 0.6128435458917767, 0.6148000930625057, 0.6148000930625057, 0.6148000930625057, 0.6148000930625057, 0.6148000930625057, 0.6148000930625057, 0.6148000930625057, 0.6148000930625057, 0.6148000930625057, 0.6148000930625057, 0.6148000930625057, 0.6148000930625057, 0.6148000930625057, 0.6148000930625057, 0.6148000930625057, 0.6148000930625057, 0.6148000930625057, 0.6148000930625057]"
   ]
  },
  {
   "cell_type": "code",
   "execution_count": 16,
   "metadata": {},
   "outputs": [
    {
     "data": {
      "image/png": "[encoded data removed]",
      "text/plain": [
       "<Figure size 432x288 with 1 Axes>"
      ]
     },
     "metadata": {
      "needs_background": "light"
     },
     "output_type": "display_data"
    }
   ],
   "source": [
    "res = [0.5304898005859783, 0.6128435458917767, 0.6148000930625057, 0.6148000930625057, 0.6148000930625057, 0.6148000930625057, 0.6148000930625057, 0.6148000930625057, 0.6148000930625057, 0.6148000930625057, 0.6148000930625057, 0.6148000930625057, 0.6148000930625057, 0.6148000930625057, 0.6148000930625057, 0.6148000930625057, 0.6148000930625057, 0.6148000930625057, 0.6148000930625057, 0.6148000930625057]\n",
    "plt.xlabel('n_estimators')\n",
    "plt.ylabel('Scores')\n",
    "plt.title('Scores for adaboost with different max estimators')\n",
    "plt.plot(np.arange(1,200,10), res)\n",
    "plt.grid(True)\n"
   ]
  },
  {
   "cell_type": "markdown",
   "metadata": {},
   "source": [
    "And the estimators for each adaboost is: [1, 11, 17, 17, 17, 17, 17, 17, 17, 17, 17, 17, 17, 17, 17, 17, 17, 17, 17, 17]"
   ]
  },
  {
   "cell_type": "code",
   "execution_count": 17,
   "metadata": {},
   "outputs": [
    {
     "data": {
      "image/png": "[encoded data removed]",
      "text/plain": [
       "<Figure size 432x288 with 1 Axes>"
      ]
     },
     "metadata": {
      "needs_background": "light"
     },
     "output_type": "display_data"
    }
   ],
   "source": [
    "res = [1, 11, 17, 17, 17, 17, 17, 17, 17, 17, 17, 17, 17, 17, 17, 17, 17, 17, 17, 17]\n",
    "plt.xlabel('n_estimators')\n",
    "plt.ylabel('# of estimators')\n",
    "plt.title('# of estimators for adaboost with different max estimators')\n",
    "plt.plot(np.arange(1,200,10), res)\n",
    "plt.grid(True)"
   ]
  },
  {
   "cell_type": "markdown",
   "metadata": {},
   "source": [
    "# Adaboost with LR"
   ]
  },
  {
   "cell_type": "code",
   "execution_count": null,
   "metadata": {},
   "outputs": [],
   "source": [
    "from sklearn.linear_model import LogisticRegression\n",
    "res_lr = []\n",
    "for n_estimators in np.arange(1,200,10):\n",
    "    print('processing %d estimators' % n_estimators)\n",
    "    clf = AdaBoostClassifier(base_estimator=LogisticRegression(C=0.1, solver='lbfgs', n_jobs=20), n_estimators=n_estimators, algorithm='SAMME')\n",
    "    start_time = time.time()\n",
    "    clf.fit(trainX, trainY)\n",
    "    score = clf.score(validX,validY)\n",
    "    print(\"used time --- %s seconds ---\" % (time.time() - start_time))\n",
    "    res_lr.append(AdaboostWithSVM(clf=clf, time=int(time.time() - start_time), score=score))"
   ]
  },
  {
   "cell_type": "markdown",
   "metadata": {},
   "source": [
    "Scores: [0.5304898005859783, 0.6123926922273091, 0.6146594477502665, 0.6146594477502665, 0.6146594477502665, 0.6146594477502665, 0.6146594477502665, 0.6146594477502665, 0.6146594477502665, 0.6146594477502665, 0.6146594477502665, 0.6146594477502665, 0.6146594477502665, 0.6146594477502665, 0.6146594477502665, 0.6146594477502665, 0.6146594477502665, 0.6146594477502665, 0.6146594477502665, 0.6146594477502665]"
   ]
  },
  {
   "cell_type": "code",
   "execution_count": 18,
   "metadata": {},
   "outputs": [
    {
     "data": {
      "image/png": "[encoded data removed]",
      "text/plain": [
       "<Figure size 432x288 with 1 Axes>"
      ]
     },
     "metadata": {
      "needs_background": "light"
     },
     "output_type": "display_data"
    }
   ],
   "source": [
    "res = [0.5304898005859783, 0.6123926922273091, 0.6146594477502665, 0.6146594477502665, 0.6146594477502665, 0.6146594477502665, 0.6146594477502665, 0.6146594477502665, 0.6146594477502665, 0.6146594477502665, 0.6146594477502665, 0.6146594477502665, 0.6146594477502665, 0.6146594477502665, 0.6146594477502665, 0.6146594477502665, 0.6146594477502665, 0.6146594477502665, 0.6146594477502665, 0.6146594477502665]\n",
    "plt.xlabel('n_estimators')\n",
    "plt.ylabel('Scores')\n",
    "plt.title('Scores for adaboost with different max estimators')\n",
    "plt.plot(np.arange(1,200,10), res)\n",
    "plt.grid(True)\n"
   ]
  },
  {
   "cell_type": "markdown",
   "metadata": {},
   "source": [
    "And the estimators for each adaboost is: [1, 11, 17, 17, 17, 17, 17, 17, 17, 17, 17, 17, 17, 17, 17, 17, 17, 17, 17, 17]"
   ]
  },
  {
   "cell_type": "code",
   "execution_count": 19,
   "metadata": {
    "scrolled": true
   },
   "outputs": [
    {
     "data": {
      "image/png": "[encoded data removed]",
      "text/plain": [
       "<Figure size 432x288 with 1 Axes>"
      ]
     },
     "metadata": {
      "needs_background": "light"
     },
     "output_type": "display_data"
    }
   ],
   "source": [
    "res =  [1, 11, 17, 17, 17, 17, 17, 17, 17, 17, 17, 17, 17, 17, 17, 17, 17, 17, 17, 17]\n",
    "plt.xlabel('n_estimators')\n",
    "plt.ylabel('# of estimators')\n",
    "plt.title('# of estimators for adaboost with different max estimators')\n",
    "plt.plot(np.arange(1,200,10), res)\n",
    "plt.grid(True)"
   ]
  },
  {
   "cell_type": "markdown",
   "metadata": {},
   "source": [
    "# Self-implemented adaboost"
   ]
  },
  {
   "cell_type": "code",
   "execution_count": null,
   "metadata": {},
   "outputs": [],
   "source": [
    "import math\n",
    "# assign classes to [-1,1]\n",
    "trainY[trainY==0] = -1\n",
    "validY[validY==0] = -1\n",
    "testY[testY==0] = -1\n",
    "\n",
    "from sklearn.linear_model import LogisticRegression\n",
    "\n",
    "n_iterations = 20\n",
    "def adaboost(trainX, trainY, n_iterations):\n",
    "    # initialize sample weights\n",
    "    sample_weights = np.array([1.] * trainX.shape[0])\n",
    "    # initialize classifier\n",
    "    clf=LogisticRegression(C=10, solver='lbfgs', n_jobs=20)\n",
    "    coef = []\n",
    "    clfs = []\n",
    "    pres = []\n",
    "    for i in range(n_iterations):\n",
    "        clf=LogisticRegression(C=10, solver='lbfgs', n_jobs=20)\n",
    "        clf.fit(trainX, trainY, sample_weight=sample_weights)\n",
    "        pre = clf.predict(trainX)\n",
    "        err = np.sum(sample_weights[trainY!=pre])/np.sum(sample_weights)\n",
    "        print('error rate of %dth iteration is: %f' % (i, err))\n",
    "        # compute the alpha and store it\n",
    "        alpha = 1/2*math.log((1-err)/err)\n",
    "        print('alpha of %dth iteration is: %f' % (i, alpha))\n",
    "        updated_weights = sample_weights[trainY!=pre] * math.exp(2*alpha)\n",
    "        sample_weights[trainY!=pre] = updated_weights\n",
    "        clfs.append(clf)\n",
    "        coef.append(alpha)\n",
    "    output = []\n",
    "    for i in range(n_iterations):\n",
    "        output.append(clfs[i].predict(validX)*coef[i])\n",
    "    ans = np.sum(output,axis=0)\n",
    "    ans[ans>=0] = 1\n",
    "    ans[ans<0] = -1\n",
    "    acc = sum((ans*validY)==1)/len(ans)"
   ]
  },
  {
   "cell_type": "markdown",
   "metadata": {},
   "source": [
    "The reason for low accuracy when n_estimators = 1 in adaboost: sample weights matters (somehow)"
   ]
  },
  {
   "cell_type": "markdown",
   "metadata": {},
   "source": [
    "accuracy = 0.5673855350896909"
   ]
  },
  {
   "cell_type": "code",
   "execution_count": null,
   "metadata": {},
   "outputs": [],
   "source": [
    "logreg = LogisticRegression(C=10, solver='lbfgs', n_jobs=20)\n",
    "logreg.fit(trainX, trainY, sample_weight=np.array([1/trainX.shape[0]] * trainX.shape[0]))\n",
    "logreg.score(validX,validY)"
   ]
  },
  {
   "cell_type": "markdown",
   "metadata": {},
   "source": [
    "accuracy = 0.62352338852676"
   ]
  },
  {
   "cell_type": "code",
   "execution_count": null,
   "metadata": {},
   "outputs": [],
   "source": [
    "logreg = LogisticRegression(C=10, solver='lbfgs', n_jobs=20)\n",
    "logreg.fit(trainX, trainY, sample_weight=[1]*trainX.shape[0])\n",
    "logreg.score(validX,validY)"
   ]
  },
  {
   "cell_type": "markdown",
   "metadata": {},
   "source": [
    "accuracy = 0.6235240457478453"
   ]
  },
  {
   "cell_type": "code",
   "execution_count": null,
   "metadata": {},
   "outputs": [],
   "source": [
    "logreg = LogisticRegression(C=10, solver='lbfgs', n_jobs=20)\n",
    "logreg.fit(trainX, trainY, sample_weight=[10]*trainX.shape[0])\n",
    "logreg.score(validX,validY)"
   ]
  },
  {
   "cell_type": "markdown",
   "metadata": {},
   "source": [
    "accuracy = 0.6235477057069135"
   ]
  },
  {
   "cell_type": "code",
   "execution_count": null,
   "metadata": {},
   "outputs": [],
   "source": [
    "logreg = LogisticRegression(C=10, solver='lbfgs', n_jobs=20)\n",
    "logreg.fit(trainX, trainY, sample_weight=[0.1]*trainX.shape[0])\n",
    "logreg.score(validX,validY)"
   ]
  },
  {
   "cell_type": "markdown",
   "metadata": {},
   "source": [
    "accuracy = 0.5965720662636587"
   ]
  },
  {
   "cell_type": "code",
   "execution_count": null,
   "metadata": {},
   "outputs": [],
   "source": [
    "logreg = LogisticRegression(C=10, solver='lbfgs', n_jobs=20)\n",
    "logreg.fit(trainX, trainY, sample_weight=[1e-6]*trainX.shape[0])\n",
    "logreg.score(validX,validY)"
   ]
  },
  {
   "cell_type": "markdown",
   "metadata": {},
   "source": [
    "Therefore, I assigned unit weights, i.e. 1, to each sample at the begining and trained it. The result is shown as below:"
   ]
  },
  {
   "cell_type": "markdown",
   "metadata": {},
   "source": [
    "error rate of 0th iteration is: **0.376359**\n",
    "alpha of 0th iteration is: **0.252516**\n",
    "\n",
    "error rate of 1th iteration is: **0.494161**\n",
    "alpha of 1th iteration is: **0.011678**\n",
    "\n",
    "error rate of 2th iteration is: **0.499704**\n",
    "alpha of 2th iteration is: **0.000592**\n",
    "\n",
    "error rate of 3th iteration is: **0.500057**\n",
    "alpha of 3th iteration is: **-0.000113**\n",
    "\n",
    "error rate of 4th iteration is: **0.499998**\n",
    "alpha of 4th iteration is: **0.000003**\n",
    "\n",
    "error rate of 5th iteration is: **0.500000**\n",
    "alpha of 5th iteration is: **0.000000**\n",
    "\n",
    "error rate of 6th iteration is: **0.500000**\n",
    "alpha of 6th iteration is: **-0.000000**\n",
    "\n",
    "error rate of 7th iteration is: **0.500000**\n",
    "alpha of 7th iteration is: **0.000000**\n",
    "\n",
    "error rate of 8th iteration is: **0.500000**\n",
    "alpha of 8th iteration is: **-0.000000**  \n",
    "...  \n",
    "...  \n",
    "...  \n",
    "Accuracy of the strong classifier is **0.62352338852676**"
   ]
  },
  {
   "cell_type": "markdown",
   "metadata": {},
   "source": [
    "Moreover, self-implemented adaboost with NB produced the similar results, i.e., alpha -> 0"
   ]
  }
 ],
 "metadata": {
  "kernelspec": {
   "display_name": "Python 3",
   "language": "python",
   "name": "python3"
  },
  "language_info": {
   "codemirror_mode": {
    "name": "ipython",
    "version": 3
   },
   "file_extension": ".py",
   "mimetype": "text/x-python",
   "name": "python",
   "nbconvert_exporter": "python",
   "pygments_lexer": "ipython3",
   "version": "3.7.0"
  }
 },
 "nbformat": 4,
 "nbformat_minor": 2
}
