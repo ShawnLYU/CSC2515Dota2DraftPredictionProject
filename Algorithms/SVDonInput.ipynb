{
 "cells": [
  {
   "cell_type": "code",
   "execution_count": 1,
   "metadata": {
    "collapsed": true
   },
   "outputs": [],
   "source": [
    "%matplotlib inline\n",
    "import numpy as np\n",
    "import pandas as pd\n",
    "from scipy import sparse\n",
    "from scipy.sparse import linalg\n",
    "import matplotlib.pyplot as plt"
   ]
  },
  {
   "cell_type": "code",
   "execution_count": 2,
   "metadata": {
    "collapsed": true
   },
   "outputs": [],
   "source": [
    "dataset=np.load('../data/AllSetSparseInOut.npz')"
   ]
  },
  {
   "cell_type": "code",
   "execution_count": 3,
   "metadata": {
    "collapsed": true
   },
   "outputs": [],
   "source": [
    "TrainInputSparse=np.asmatrix(dataset['TrainInputSparse'])[0,0]\n",
    "ValidInputSparse=np.asmatrix(dataset['ValidInputSparse'])[0,0]\n",
    "TestInputSparse=np.asmatrix(dataset['TestInputSparse'])[0,0]\n",
    "TrainTargetSparse=np.asmatrix(dataset['TrainTargetSparse'])[0,0]\n",
    "ValidTargetSparse=np.asmatrix(dataset['ValidTargetSparse'])[0,0]\n",
    "TestTargetSparse=np.asmatrix(dataset['TestTargetSparse'])[0,0]\n",
    "del dataset"
   ]
  },
  {
   "cell_type": "code",
   "execution_count": 4,
   "metadata": {},
   "outputs": [
    {
     "data": {
      "text/plain": [
       "(2028742, 226)"
      ]
     },
     "execution_count": 4,
     "metadata": {},
     "output_type": "execute_result"
    }
   ],
   "source": [
    "TrainInputSparse.shape"
   ]
  },
  {
   "cell_type": "code",
   "execution_count": 5,
   "metadata": {},
   "outputs": [
    {
     "data": {
      "text/plain": [
       "(1521558, 226)"
      ]
     },
     "execution_count": 5,
     "metadata": {},
     "output_type": "execute_result"
    }
   ],
   "source": [
    "ValidInputSparse.shape"
   ]
  },
  {
   "cell_type": "code",
   "execution_count": null,
   "metadata": {
    "collapsed": true
   },
   "outputs": [],
   "source": []
  },
  {
   "cell_type": "code",
   "execution_count": 6,
   "metadata": {},
   "outputs": [
    {
     "data": {
      "text/plain": [
       "(1521558, 226)"
      ]
     },
     "execution_count": 6,
     "metadata": {},
     "output_type": "execute_result"
    }
   ],
   "source": [
    "TestInputSparse.shape"
   ]
  },
  {
   "cell_type": "code",
   "execution_count": null,
   "metadata": {
    "collapsed": true
   },
   "outputs": [],
   "source": []
  },
  {
   "cell_type": "code",
   "execution_count": 7,
   "metadata": {},
   "outputs": [
    {
     "data": {
      "text/plain": [
       "(2028742, 1)"
      ]
     },
     "execution_count": 7,
     "metadata": {},
     "output_type": "execute_result"
    }
   ],
   "source": [
    "TrainTargetSparse.shape"
   ]
  },
  {
   "cell_type": "code",
   "execution_count": null,
   "metadata": {
    "collapsed": true
   },
   "outputs": [],
   "source": []
  },
  {
   "cell_type": "code",
   "execution_count": 8,
   "metadata": {},
   "outputs": [
    {
     "data": {
      "text/plain": [
       "(1521558, 1)"
      ]
     },
     "execution_count": 8,
     "metadata": {},
     "output_type": "execute_result"
    }
   ],
   "source": [
    "ValidTargetSparse.shape"
   ]
  },
  {
   "cell_type": "code",
   "execution_count": null,
   "metadata": {
    "collapsed": true
   },
   "outputs": [],
   "source": []
  },
  {
   "cell_type": "code",
   "execution_count": 5,
   "metadata": {
    "collapsed": true
   },
   "outputs": [],
   "source": [
    "# n=200\n",
    "# u,s,vt=linalg.svds(TrainInputSparse,n)\n",
    "# u[:,:n]=u[:,n-1::-1]\n",
    "# s=s[::-1]\n",
    "# vt[:n,:]=vt[n-1::-1,:]\n",
    "# v=vt.transpose()\n",
    "# np.savez_compressed('TrainsetSVDRightSingularVectors_200.npz',v)\n",
    "# plt.plot(s)\n",
    "\n",
    "v=np.load('../data/TrainsetSVDRightSingularVectors_200.npz')\n",
    "v=v['v']"
   ]
  },
  {
   "cell_type": "code",
   "execution_count": 6,
   "metadata": {},
   "outputs": [
    {
     "data": {
      "text/plain": [
       "(226, 200)"
      ]
     },
     "execution_count": 6,
     "metadata": {},
     "output_type": "execute_result"
    }
   ],
   "source": [
    "v.shape"
   ]
  },
  {
   "cell_type": "code",
   "execution_count": 7,
   "metadata": {},
   "outputs": [],
   "source": [
    "v100=v[:,0:100]"
   ]
  },
  {
   "cell_type": "code",
   "execution_count": 8,
   "metadata": {
    "collapsed": true
   },
   "outputs": [],
   "source": [
    "TrainInputSVD100=TrainInputSparse.dot(v100)"
   ]
  },
  {
   "cell_type": "code",
   "execution_count": 9,
   "metadata": {
    "collapsed": true
   },
   "outputs": [],
   "source": [
    "ValidInputSVD100=ValidInputSparse.dot(v100)"
   ]
  },
  {
   "cell_type": "code",
   "execution_count": 10,
   "metadata": {
    "collapsed": true
   },
   "outputs": [],
   "source": [
    "TestInputSVD100=TestInputSparse.dot(v100)"
   ]
  },
  {
   "cell_type": "code",
   "execution_count": 11,
   "metadata": {
    "collapsed": true
   },
   "outputs": [],
   "source": [
    "with open('AllSetSparseInOutSVD100.npz','wb') as handle:\n",
    "    np.savez_compressed(handle,TrainInputSVD100=TrainInputSVD100,ValidInputSVD100=ValidInputSVD100,TestInputSVD100=TestInputSVD100,TrainTargetSparse=TrainTargetSparse,ValidTargetSparse=ValidTargetSparse,TestTargetSparse=TestTargetSparse)"
   ]
  },
  {
   "cell_type": "code",
   "execution_count": 12,
   "metadata": {
    "collapsed": true
   },
   "outputs": [],
   "source": [
    "with open('TrainSetSparseInOutSVD100.npz','wb') as handle:\n",
    "    np.savez_compressed(handle,TrainInputSVD100=TrainInputSVD100,TrainTargetSparse=TrainTargetSparse)"
   ]
  },
  {
   "cell_type": "code",
   "execution_count": 13,
   "metadata": {
    "collapsed": true
   },
   "outputs": [],
   "source": [
    "with open('ValidSetSparseInOutSVD100.npz','wb') as handle:\n",
    "    np.savez_compressed(handle,ValidInputSVD100=ValidInputSVD100,ValidTargetSparse=ValidTargetSparse)\n",
    "    \n",
    "with open('TestSetSparseInOutSVD100.npz','wb') as handle:\n",
    "    np.savez_compressed(handle,TestInputSVD100=TestInputSVD100,TestTargetSparse=TestTargetSparse)"
   ]
  },
  {
   "cell_type": "code",
   "execution_count": null,
   "metadata": {
    "collapsed": true
   },
   "outputs": [],
   "source": []
  },
  {
   "cell_type": "code",
   "execution_count": null,
   "metadata": {
    "collapsed": true
   },
   "outputs": [],
   "source": []
  }
 ],
 "metadata": {
  "kernelspec": {
   "display_name": "Python 3",
   "language": "python",
   "name": "python3"
  },
  "language_info": {
   "codemirror_mode": {
    "name": "ipython",
    "version": 3
   },
   "file_extension": ".py",
   "mimetype": "text/x-python",
   "name": "python",
   "nbconvert_exporter": "python",
   "pygments_lexer": "ipython3",
   "version": "3.6.1"
  }
 },
 "nbformat": 4,
 "nbformat_minor": 2
}
