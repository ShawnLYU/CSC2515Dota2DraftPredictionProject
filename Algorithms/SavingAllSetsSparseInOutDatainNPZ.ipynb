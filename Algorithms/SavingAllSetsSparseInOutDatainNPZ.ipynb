{
 "cells": [
  {
   "cell_type": "code",
   "execution_count": 1,
   "metadata": {},
   "outputs": [],
   "source": [
    "import numpy as np\n",
    "import pandas as pd\n",
    "from scipy import sparse"
   ]
  },
  {
   "cell_type": "code",
   "execution_count": 2,
   "metadata": {},
   "outputs": [],
   "source": [
    "TrainInputSparse=sparse.load_npz('../data/trainsetInputVector_sparse.npz')\n",
    "ValidInputSparse=sparse.load_npz('../data/validsetInputVector_sparse.npz')\n",
    "TestInputSparse=sparse.load_npz('../data/testsetInputVector_sparse.npz')\n",
    "TrainTarget=pd.read_csv('../data/trainsetResult.csv',header=None)\n",
    "ValidTarget=pd.read_csv('../data/validsetResult.csv',header=None)\n",
    "TestTarget=pd.read_csv('../data/testsetResult.csv',header=None)"
   ]
  },
  {
   "cell_type": "code",
   "execution_count": 3,
   "metadata": {},
   "outputs": [],
   "source": [
    "TrainTargetSparse=sparse.csc_matrix(TrainTarget.values)\n",
    "ValidTargetSparse=sparse.csc_matrix(ValidTarget.values)\n",
    "TestTargetSparse=sparse.csc_matrix(TestTarget.values)"
   ]
  },
  {
   "cell_type": "code",
   "execution_count": 4,
   "metadata": {},
   "outputs": [
    {
     "data": {
      "text/plain": [
       "<1521558x1 sparse matrix of type '<class 'numpy.int64'>'\n",
       "\twith 807758 stored elements in Compressed Sparse Column format>"
      ]
     },
     "execution_count": 4,
     "metadata": {},
     "output_type": "execute_result"
    }
   ],
   "source": [
    "TestTargetSparse"
   ]
  },
  {
   "cell_type": "code",
   "execution_count": 5,
   "metadata": {},
   "outputs": [
    {
     "data": {
      "text/plain": [
       "<1521558x226 sparse matrix of type '<class 'numpy.float64'>'\n",
       "\twith 15215572 stored elements in Compressed Sparse Row format>"
      ]
     },
     "execution_count": 5,
     "metadata": {},
     "output_type": "execute_result"
    }
   ],
   "source": [
    "TestInputSparse"
   ]
  },
  {
   "cell_type": "code",
   "execution_count": 6,
   "metadata": {},
   "outputs": [],
   "source": [
    "# Save all datasets in one NPZ file; sets are accessible by loaded['TrainTargetsparse'], for example\n",
    "with open('AllSetSparseInOut.npz','wb') as handle:\n",
    "    np.savez_compressed(handle,TrainInputSparse=TrainInputSparse,ValidInputSparse=ValidInputSparse,TestInputSparse=TestInputSparse,TrainTargetSparse=TrainTargetSparse,ValidTargetSparse=ValidTargetSparse,TestTargetSparse=TestTargetSparse)"
   ]
  },
  {
   "cell_type": "code",
   "execution_count": null,
   "metadata": {},
   "outputs": [],
   "source": []
  }
 ],
 "metadata": {
  "kernelspec": {
   "display_name": "Python 3",
   "language": "python",
   "name": "python3"
  },
  "language_info": {
   "codemirror_mode": {
    "name": "ipython",
    "version": 3
   },
   "file_extension": ".py",
   "mimetype": "text/x-python",
   "name": "python",
   "nbconvert_exporter": "python",
   "pygments_lexer": "ipython3",
   "version": "3.6.5"
  }
 },
 "nbformat": 4,
 "nbformat_minor": 2
}
