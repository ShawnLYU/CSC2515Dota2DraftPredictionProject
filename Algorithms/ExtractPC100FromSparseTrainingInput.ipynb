{
 "cells": [
  {
   "cell_type": "code",
   "execution_count": 1,
   "metadata": {
    "collapsed": true
   },
   "outputs": [],
   "source": [
    "%matplotlib inline\n",
    "import numpy as np\n",
    "from scipy import sparse\n",
    "from scipy.sparse import linalg\n",
    "import matplotlib.pyplot as plt\n",
    "dataset=np.load('../data/AllSetSparseInOut_noleave.npz')\n",
    "TrainX_all=np.asmatrix(dataset['TrainX'])[0,0]\n",
    "dataset=np.load('../data/AllSetSparseInOut_noleave_N.npz')\n",
    "TrainX_N=np.asmatrix(dataset['TrainX'])[0,0]\n",
    "dataset=np.load('../data/AllSetSparseInOut_noleave_VH.npz')\n",
    "TrainX_VH=np.asmatrix(dataset['TrainX'])[0,0]"
   ]
  },
  {
   "cell_type": "code",
   "execution_count": 2,
   "metadata": {},
   "outputs": [
    {
     "name": "stdout",
     "output_type": "stream",
     "text": [
      "Shape of v_all is (226, 100)\n"
     ]
    },
    {
     "data": {
      "text/plain": [
       "[<matplotlib.lines.Line2D at 0x483d0b8>]"
      ]
     },
     "execution_count": 2,
     "metadata": {},
     "output_type": "execute_result"
    },
    {
     "data": {
      "image/png": "[encoded data removed]",
      "text/plain": [
       "<matplotlib.figure.Figure at 0x4dd9a20>"
      ]
     },
     "metadata": {},
     "output_type": "display_data"
    }
   ],
   "source": [
    "n=100\n",
    "u,s,vt=linalg.svds(TrainX_all,n)\n",
    "u[:,:n]=u[:,n-1::-1]\n",
    "s=s[::-1]\n",
    "vt[:n,:]=vt[n-1::-1,:]\n",
    "v_all=np.diag(s).dot(vt).transpose()\n",
    "# v_all=vt.transpose()\n",
    "print('Shape of v_all is',v_all.shape)\n",
    "np.savez_compressed('NoLeaverAll_TrainRightSingularVectors_100.npz',v_all=v_all)\n",
    "plt.plot(s)"
   ]
  },
  {
   "cell_type": "code",
   "execution_count": 3,
   "metadata": {},
   "outputs": [
    {
     "data": {
      "text/plain": [
       "[<matplotlib.lines.Line2D at 0xeca6e10>]"
      ]
     },
     "execution_count": 3,
     "metadata": {},
     "output_type": "execute_result"
    },
    {
     "data": {
      "image/png": "[encoded data removed]",
      "text/plain": [
       "<matplotlib.figure.Figure at 0x4e45e10>"
      ]
     },
     "metadata": {},
     "output_type": "display_data"
    }
   ],
   "source": [
    "n=100\n",
    "u,s,vt=linalg.svds(TrainX_N,n)\n",
    "u[:,:n]=u[:,n-1::-1]\n",
    "s=s[::-1]\n",
    "vt[:n,:]=vt[n-1::-1,:]\n",
    "v_N=np.diag(s).dot(vt).transpose()\n",
    "# v_N=vt.transpose()\n",
    "np.savez_compressed('NoLeaverN_TrainRightSingularVectors_100.npz',v_N=v_N)\n",
    "plt.plot(s)"
   ]
  },
  {
   "cell_type": "code",
   "execution_count": 4,
   "metadata": {},
   "outputs": [
    {
     "data": {
      "text/plain": [
       "[<matplotlib.lines.Line2D at 0xed798d0>]"
      ]
     },
     "execution_count": 4,
     "metadata": {},
     "output_type": "execute_result"
    },
    {
     "data": {
      "image/png": "[encoded data removed]",
      "text/plain": [
       "<matplotlib.figure.Figure at 0x49e7e80>"
      ]
     },
     "metadata": {},
     "output_type": "display_data"
    }
   ],
   "source": [
    "n=100\n",
    "u,s,vt=linalg.svds(TrainX_VH,n)\n",
    "u[:,:n]=u[:,n-1::-1]\n",
    "s=s[::-1]\n",
    "vt[:n,:]=vt[n-1::-1,:]\n",
    "v_VH=np.diag(s).dot(vt).transpose()\n",
    "# v_VH=vt.transpose()\n",
    "np.savez_compressed('NoLeaverVH_TrainRightSingularVectors_100.npz',v_VH=v_VH)\n",
    "plt.plot(s)"
   ]
  },
  {
   "cell_type": "code",
   "execution_count": 5,
   "metadata": {},
   "outputs": [
    {
     "name": "stdout",
     "output_type": "stream",
     "text": [
      "Shape of Right SVector is  (226, 100)\n"
     ]
    }
   ],
   "source": [
    "loaded = np.load('NoLeaverVH_TrainRightSingularVectors_100.npz')\n",
    "print('Shape of Right SVector is ',loaded['v_VH'].shape)"
   ]
  },
  {
   "cell_type": "code",
   "execution_count": null,
   "metadata": {
    "collapsed": true
   },
   "outputs": [],
   "source": []
  },
  {
   "cell_type": "code",
   "execution_count": null,
   "metadata": {
    "collapsed": true
   },
   "outputs": [],
   "source": []
  },
  {
   "cell_type": "code",
   "execution_count": null,
   "metadata": {
    "collapsed": true
   },
   "outputs": [],
   "source": []
  },
  {
   "cell_type": "code",
   "execution_count": null,
   "metadata": {
    "collapsed": true
   },
   "outputs": [],
   "source": []
  },
  {
   "cell_type": "code",
   "execution_count": null,
   "metadata": {
    "collapsed": true
   },
   "outputs": [],
   "source": []
  },
  {
   "cell_type": "code",
   "execution_count": null,
   "metadata": {
    "collapsed": true
   },
   "outputs": [],
   "source": []
  }
 ],
 "metadata": {
  "kernelspec": {
   "display_name": "Python 3",
   "language": "python",
   "name": "python3"
  },
  "language_info": {
   "codemirror_mode": {
    "name": "ipython",
    "version": 3
   },
   "file_extension": ".py",
   "mimetype": "text/x-python",
   "name": "python",
   "nbconvert_exporter": "python",
   "pygments_lexer": "ipython3",
   "version": "3.6.1"
  }
 },
 "nbformat": 4,
 "nbformat_minor": 2
}
