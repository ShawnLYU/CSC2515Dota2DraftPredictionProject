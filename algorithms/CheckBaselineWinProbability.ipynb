{
 "cells": [
  {
   "cell_type": "code",
   "execution_count": 1,
   "metadata": {},
   "outputs": [
    {
     "name": "stdout",
     "output_type": "stream",
     "text": [
      "In Normal Games:\n",
      "Training Set Win Prob =  0.540306917587244\n",
      "Validation Set Win Prob =  0.5395456542996463\n",
      "Test Set Win Prob =  0.5404586212203439\n"
     ]
    }
   ],
   "source": [
    "import numpy as np\n",
    "dataset=np.load('../data/all/all_IO_noleave_N.npz')\n",
    "TrainX=np.asmatrix(dataset['TrainX'])[0,0]\n",
    "ValidX=np.asmatrix(dataset['ValidX'])[0,0]\n",
    "TestX=np.asmatrix(dataset['TestX'])[0,0]\n",
    "TrainY=np.asmatrix(dataset['TrainY'])[0,0]\n",
    "ValidY=np.asmatrix(dataset['ValidY'])[0,0]\n",
    "TestY=np.asmatrix(dataset['TestY'])[0,0]\n",
    "print('In Normal Games:')\n",
    "print('Training Set Win Prob = ',np.sum(TrainY)/TrainY.shape[0])\n",
    "print('Validation Set Win Prob = ',np.sum(ValidY)/ValidY.shape[0])\n",
    "print('Test Set Win Prob = ',np.sum(TestY)/TestY.shape[0])"
   ]
  },
  {
   "cell_type": "code",
   "execution_count": 2,
   "metadata": {},
   "outputs": [
    {
     "name": "stdout",
     "output_type": "stream",
     "text": [
      "In VeryHigh Games:\n",
      "Training Set Win Prob =  0.5214749280597564\n",
      "Validation Set Win Prob =  0.5211107217939733\n",
      "Test Set Win Prob =  0.5206542141947679\n"
     ]
    }
   ],
   "source": [
    "dataset=np.load('../data/all/all_IO_noleave_VH.npz')\n",
    "TrainX=np.asmatrix(dataset['TrainX'])[0,0]\n",
    "ValidX=np.asmatrix(dataset['ValidX'])[0,0]\n",
    "TestX=np.asmatrix(dataset['TestX'])[0,0]\n",
    "TrainY=np.asmatrix(dataset['TrainY'])[0,0]\n",
    "ValidY=np.asmatrix(dataset['ValidY'])[0,0]\n",
    "TestY=np.asmatrix(dataset['TestY'])[0,0]\n",
    "print('In VeryHigh Games:')\n",
    "print('Training Set Win Prob = ',np.sum(TrainY)/TrainY.shape[0])\n",
    "print('Validation Set Win Prob = ',np.sum(ValidY)/ValidY.shape[0])\n",
    "print('Test Set Win Prob = ',np.sum(TestY)/TestY.shape[0])"
   ]
  },
  {
   "cell_type": "code",
   "execution_count": 3,
   "metadata": {},
   "outputs": [
    {
     "name": "stdout",
     "output_type": "stream",
     "text": [
      "In All Games with no leaver:\n",
      "Training Set Win Prob =  0.5323513175723309\n",
      "Validation Set Win Prob =  0.5329443412663463\n",
      "Test Set Win Prob =  0.5332432437601973\n"
     ]
    }
   ],
   "source": [
    "dataset=np.load('../data/all/all_IO_noleave.npz')\n",
    "TrainX=np.asmatrix(dataset['TrainX'])[0,0]\n",
    "ValidX=np.asmatrix(dataset['ValidX'])[0,0]\n",
    "TestX=np.asmatrix(dataset['TestX'])[0,0]\n",
    "TrainY=np.asmatrix(dataset['TrainY'])[0,0]\n",
    "ValidY=np.asmatrix(dataset['ValidY'])[0,0]\n",
    "TestY=np.asmatrix(dataset['TestY'])[0,0]\n",
    "print('In All Games with no leaver:')\n",
    "print('Training Set Win Prob = ',np.sum(TrainY)/TrainY.shape[0])\n",
    "print('Validation Set Win Prob = ',np.sum(ValidY)/ValidY.shape[0])\n",
    "print('Test Set Win Prob = ',np.sum(TestY)/TestY.shape[0])"
   ]
  },
  {
   "cell_type": "code",
   "execution_count": null,
   "metadata": {},
   "outputs": [],
   "source": []
  },
  {
   "cell_type": "code",
   "execution_count": null,
   "metadata": {},
   "outputs": [],
   "source": []
  }
 ],
 "metadata": {
  "kernelspec": {
   "display_name": "Python 3",
   "language": "python",
   "name": "python3"
  },
  "language_info": {
   "codemirror_mode": {
    "name": "ipython",
    "version": 3
   },
   "file_extension": ".py",
   "mimetype": "text/x-python",
   "name": "python",
   "nbconvert_exporter": "python",
   "pygments_lexer": "ipython3",
   "version": "3.6.5"
  }
 },
 "nbformat": 4,
 "nbformat_minor": 2
}
