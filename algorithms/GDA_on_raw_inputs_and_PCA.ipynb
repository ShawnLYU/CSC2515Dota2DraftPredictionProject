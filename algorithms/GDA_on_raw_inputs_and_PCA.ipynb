{
 "cells": [
  {
   "cell_type": "code",
   "execution_count": 1,
   "metadata": {
    "collapsed": true
   },
   "outputs": [],
   "source": [
    "%matplotlib inline\n",
    "import numpy as np\n",
    "import pandas as pd\n",
    "from scipy import sparse\n",
    "from sklearn.discriminant_analysis import LinearDiscriminantAnalysis as LDA\n",
    "from sklearn.discriminant_analysis import QuadraticDiscriminantAnalysis as QDA"
   ]
  },
  {
   "cell_type": "code",
   "execution_count": 2,
   "metadata": {
    "collapsed": true
   },
   "outputs": [],
   "source": [
    "dataset=np.load('../data/all/all_IO_noleave.npz')\n",
    "TrainX=np.asmatrix(dataset['TrainX'])[0,0]\n",
    "ValidX=np.asmatrix(dataset['ValidX'])[0,0]\n",
    "TestX=np.asmatrix(dataset['TestX'])[0,0]\n",
    "TrainY=np.asmatrix(dataset['TrainY'])[0,0]\n",
    "ValidY=np.asmatrix(dataset['ValidY'])[0,0]\n",
    "TestY=np.asmatrix(dataset['TestY'])[0,0]\n",
    "del dataset\n",
    "ntrain=500000\n",
    "ntest=500000\n",
    "TrainX=TrainX[:ntrain,:]\n",
    "TrainY=TrainY[:ntrain,:]\n",
    "TestX=TestX[:ntest,:]\n",
    "TestY=TestY[:ntest,:]"
   ]
  },
  {
   "cell_type": "code",
   "execution_count": 3,
   "metadata": {},
   "outputs": [
    {
     "name": "stderr",
     "output_type": "stream",
     "text": [
      "C:\\Users\\Gary\\Anaconda3\\lib\\site-packages\\sklearn\\discriminant_analysis.py:387: UserWarning: Variables are collinear.\n",
      "  warnings.warn(\"Variables are collinear.\")\n"
     ]
    },
    {
     "name": "stdout",
     "output_type": "stream",
     "text": [
      "Linear Discriminant Analysis Model on NoLeave All Dataset, Training Set performance: accuracy  62.6902  %;  313451  predictions correct out of  500000  matches\n",
      "LDA on NoLeave All Dataset, Test Set performance: accuracy  62.5338  %;  312669  predictions correct out of  500000  matches\n"
     ]
    },
    {
     "name": "stderr",
     "output_type": "stream",
     "text": [
      "C:\\Users\\Gary\\Anaconda3\\lib\\site-packages\\sklearn\\discriminant_analysis.py:695: UserWarning: Variables are collinear\n",
      "  warnings.warn(\"Variables are collinear\")\n"
     ]
    },
    {
     "name": "stdout",
     "output_type": "stream",
     "text": [
      "Quadratic Discriminant Analysis Model on NoLeave All Dataset, Training Set performance: accuracy  48.704  %;  243520  predictions correct out of  500000  matches\n",
      "QDA on NoLeave All Dataset, Test Set performance: accuracy  48.5056  %;  242528  predictions correct out of  500000  matches\n"
     ]
    }
   ],
   "source": [
    "LDAclf=LDA()\n",
    "LDAclf.fit(TrainX.toarray(),TrainY.toarray().reshape((TrainX.shape[0],)))\n",
    "TrainY_LDA=LDAclf.predict(TrainX.toarray()).reshape((TrainX.shape[0],1))\n",
    "TrainingSetPrediction_LDA=(TrainY==TrainY_LDA)\n",
    "print('Linear Discriminant Analysis Model on NoLeave All Dataset, Training Set performance: accuracy ',TrainingSetPrediction_LDA.sum()*100/len(TrainingSetPrediction_LDA),' %; ',TrainingSetPrediction_LDA.sum(),' predictions correct out of ',len(TrainingSetPrediction_LDA),' matches')\n",
    "TestY_LDA=LDAclf.predict(TestX.toarray()).reshape((TestX.shape[0],1))\n",
    "TestSetPrediction_LDA=(TestY==TestY_LDA)\n",
    "print('LDA on NoLeave All Dataset, Test Set performance: accuracy ',TestSetPrediction_LDA.sum()*100/len(TestSetPrediction_LDA),' %; ',TestSetPrediction_LDA.sum(),' predictions correct out of ',len(TestSetPrediction_LDA),' matches')\n",
    "QDAclf=QDA()\n",
    "QDAclf.fit(TrainX.toarray(),TrainY.toarray().reshape((TrainX.shape[0],)))\n",
    "TrainY_QDA=QDAclf.predict(TrainX.toarray()).reshape((TrainX.shape[0],1))\n",
    "TrainingSetPrediction_QDA=(TrainY==TrainY_QDA)\n",
    "print('Quadratic Discriminant Analysis Model on NoLeave All Dataset, Training Set performance: accuracy ',TrainingSetPrediction_QDA.sum()*100/len(TrainingSetPrediction_QDA),' %; ',TrainingSetPrediction_QDA.sum(),' predictions correct out of ',len(TrainingSetPrediction_QDA),' matches')\n",
    "TestY_QDA=QDAclf.predict(TestX.toarray()).reshape((TestX.shape[0],1))\n",
    "TestSetPrediction_QDA=(TestY==TestY_QDA)\n",
    "print('QDA on NoLeave All Dataset, Test Set performance: accuracy ',TestSetPrediction_QDA.sum()*100/len(TestSetPrediction_QDA),' %; ',TestSetPrediction_QDA.sum(),' predictions correct out of ',len(TestSetPrediction_QDA),' matches')"
   ]
  },
  {
   "cell_type": "code",
   "execution_count": 4,
   "metadata": {},
   "outputs": [
    {
     "name": "stdout",
     "output_type": "stream",
     "text": [
      "LDA_PC100 on NoLeave All Dataset, Training Set performance: accuracy  60.9716  %;  304858  predictions correct out of  500000  matches\n",
      "LDA_PC100 on NoLeave All Dataset, Test Set performance: accuracy  60.9702  %;  304851  predictions correct out of  500000  matches\n",
      "QDA_PC100 on NoLeave All Dataset, Training Set performance: accuracy  60.8346  %;  304173  predictions correct out of  500000  matches\n",
      "QDA_PC100 on NoLeave All Dataset, Test Set performance: accuracy  60.7116  %;  303558  predictions correct out of  500000  matches\n"
     ]
    }
   ],
   "source": [
    "loaded = np.load('../data/NoLeaverAll_TrainRightSingularVectors_100.npz')\n",
    "v_all=loaded['v_all']\n",
    "TrainX_PC100=TrainX.dot(v_all)\n",
    "TestX_PC100=TestX.dot(v_all)\n",
    "\n",
    "LDAclf_PC100=LDA()\n",
    "LDAclf_PC100.fit(TrainX_PC100,TrainY.toarray().reshape((TrainY.shape[0],)))\n",
    "TrainY_LDA=LDAclf_PC100.predict(TrainX_PC100).reshape((TrainX_PC100.shape[0],1))\n",
    "TrainingSetPrediction_LDA=(TrainY==TrainY_LDA)\n",
    "print('LDA_PC100 on NoLeave All Dataset, Training Set performance: accuracy ',TrainingSetPrediction_LDA.sum()*100/len(TrainingSetPrediction_LDA),' %; ',TrainingSetPrediction_LDA.sum(),' predictions correct out of ',len(TrainingSetPrediction_LDA),' matches')\n",
    "TestY_LDA=LDAclf_PC100.predict(TestX_PC100).reshape((TestX_PC100.shape[0],1))\n",
    "TestSetPrediction_LDA=(TestY==TestY_LDA)\n",
    "print('LDA_PC100 on NoLeave All Dataset, Test Set performance: accuracy ',TestSetPrediction_LDA.sum()*100/len(TestSetPrediction_LDA),' %; ',TestSetPrediction_LDA.sum(),' predictions correct out of ',len(TestSetPrediction_LDA),' matches')\n",
    "\n",
    "QDAclf_PC100=QDA()\n",
    "QDAclf_PC100.fit(TrainX_PC100,TrainY.toarray().reshape((TrainY.shape[0],)))\n",
    "TrainY_QDA=QDAclf_PC100.predict(TrainX_PC100).reshape((TrainX_PC100.shape[0],1))\n",
    "TrainingSetPrediction_QDA=(TrainY==TrainY_QDA)\n",
    "print('QDA_PC100 on NoLeave All Dataset, Training Set performance: accuracy ',TrainingSetPrediction_QDA.sum()*100/len(TrainingSetPrediction_QDA),' %; ',TrainingSetPrediction_QDA.sum(),' predictions correct out of ',len(TrainingSetPrediction_QDA),' matches')\n",
    "TestY_QDA=QDAclf_PC100.predict(TestX_PC100).reshape((TestX_PC100.shape[0],1))\n",
    "TestSetPrediction_QDA=(TestY==TestY_QDA)\n",
    "print('QDA_PC100 on NoLeave All Dataset, Test Set performance: accuracy ',TestSetPrediction_QDA.sum()*100/len(TestSetPrediction_QDA),' %; ',TestSetPrediction_QDA.sum(),' predictions correct out of ',len(TestSetPrediction_QDA),' matches')"
   ]
  },
  {
   "cell_type": "code",
   "execution_count": 5,
   "metadata": {
    "collapsed": true
   },
   "outputs": [],
   "source": [
    "dataset=np.load('../data/AllSetSparseInOut_noleave_VH.npz')\n",
    "TrainX=np.asmatrix(dataset['TrainX'])[0,0]\n",
    "ValidX=np.asmatrix(dataset['ValidX'])[0,0]\n",
    "TestX=np.asmatrix(dataset['TestX'])[0,0]\n",
    "TrainY=np.asmatrix(dataset['TrainY'])[0,0]\n",
    "ValidY=np.asmatrix(dataset['ValidY'])[0,0]\n",
    "TestY=np.asmatrix(dataset['TestY'])[0,0]\n",
    "del dataset"
   ]
  },
  {
   "cell_type": "code",
   "execution_count": 6,
   "metadata": {},
   "outputs": [
    {
     "name": "stderr",
     "output_type": "stream",
     "text": [
      "C:\\Users\\Gary\\Anaconda3\\lib\\site-packages\\sklearn\\discriminant_analysis.py:387: UserWarning: Variables are collinear.\n",
      "  warnings.warn(\"Variables are collinear.\")\n"
     ]
    },
    {
     "name": "stdout",
     "output_type": "stream",
     "text": [
      "LDA on NoLeave VH Dataset, Training Set performance: accuracy  60.7153790311  %;  277666  predictions correct out of  457324  matches\n",
      "LDA on NoLeave VH Dataset, Test Set performance: accuracy  60.5362526198  %;  138355  predictions correct out of  228549  matches\n"
     ]
    },
    {
     "name": "stderr",
     "output_type": "stream",
     "text": [
      "C:\\Users\\Gary\\Anaconda3\\lib\\site-packages\\sklearn\\discriminant_analysis.py:695: UserWarning: Variables are collinear\n",
      "  warnings.warn(\"Variables are collinear\")\n"
     ]
    },
    {
     "name": "stdout",
     "output_type": "stream",
     "text": [
      "QDA on NoLeave VH Dataset, Training Set performance: accuracy  51.9340773718  %;  237507  predictions correct out of  457324  matches\n",
      "QDA on NoLeave VH Dataset, Test Set performance: accuracy  51.9100936779  %;  118640  predictions correct out of  228549  matches\n"
     ]
    }
   ],
   "source": [
    "LDAclf=LDA()\n",
    "LDAclf.fit(TrainX.toarray(),TrainY.toarray().reshape((TrainX.shape[0],)))\n",
    "TrainY_LDA=LDAclf.predict(TrainX.toarray()).reshape((TrainX.shape[0],1))\n",
    "TrainingSetPrediction_LDA=(TrainY==TrainY_LDA)\n",
    "print('LDA on NoLeave VH Dataset, Training Set performance: accuracy ',TrainingSetPrediction_LDA.sum()*100/len(TrainingSetPrediction_LDA),' %; ',TrainingSetPrediction_LDA.sum(),' predictions correct out of ',len(TrainingSetPrediction_LDA),' matches')\n",
    "TestY_LDA=LDAclf.predict(TestX.toarray()).reshape((TestX.shape[0],1))\n",
    "TestSetPrediction_LDA=(TestY==TestY_LDA)\n",
    "print('LDA on NoLeave VH Dataset, Test Set performance: accuracy ',TestSetPrediction_LDA.sum()*100/len(TestSetPrediction_LDA),' %; ',TestSetPrediction_LDA.sum(),' predictions correct out of ',len(TestSetPrediction_LDA),' matches')\n",
    "QDAclf=QDA()\n",
    "QDAclf.fit(TrainX.toarray(),TrainY.toarray().reshape((TrainX.shape[0],)))\n",
    "TrainY_QDA=QDAclf.predict(TrainX.toarray()).reshape((TrainX.shape[0],1))\n",
    "TrainingSetPrediction_QDA=(TrainY==TrainY_QDA)\n",
    "print('QDA on NoLeave VH Dataset, Training Set performance: accuracy ',TrainingSetPrediction_QDA.sum()*100/len(TrainingSetPrediction_QDA),' %; ',TrainingSetPrediction_QDA.sum(),' predictions correct out of ',len(TrainingSetPrediction_QDA),' matches')\n",
    "TestY_QDA=QDAclf.predict(TestX.toarray()).reshape((TestX.shape[0],1))\n",
    "TestSetPrediction_QDA=(TestY==TestY_QDA)\n",
    "print('QDA on NoLeave VH Dataset, Test Set performance: accuracy ',TestSetPrediction_QDA.sum()*100/len(TestSetPrediction_QDA),' %; ',TestSetPrediction_QDA.sum(),' predictions correct out of ',len(TestSetPrediction_QDA),' matches')"
   ]
  },
  {
   "cell_type": "code",
   "execution_count": 7,
   "metadata": {},
   "outputs": [
    {
     "name": "stdout",
     "output_type": "stream",
     "text": [
      "LDA_PC100 on NoLeave VH Dataset, Training Set performance: accuracy  59.2973471762  %;  271181  predictions correct out of  457324  matches\n",
      "LDA_PC100 on NoLeave VH Dataset, Test Set performance: accuracy  59.1833698682  %;  135263  predictions correct out of  228549  matches\n",
      "QDA_PC100 on NoLeave VH Dataset, Training Set performance: accuracy  59.3362692533  %;  271359  predictions correct out of  457324  matches\n",
      "QDA_PC100 on NoLeave VH Dataset, Test Set performance: accuracy  59.025416869  %;  134902  predictions correct out of  228549  matches\n"
     ]
    }
   ],
   "source": [
    "loaded = np.load('../data/NoLeaverVH_TrainRightSingularVectors_100.npz')\n",
    "v_VH=loaded['v_VH']\n",
    "TrainX_PC100=TrainX.dot(v_VH)\n",
    "TestX_PC100=TestX.dot(v_VH)\n",
    "\n",
    "LDAclf_PC100=LDA()\n",
    "LDAclf_PC100.fit(TrainX_PC100,TrainY.toarray().reshape((TrainY.shape[0],)))\n",
    "TrainY_LDA=LDAclf_PC100.predict(TrainX_PC100).reshape((TrainX_PC100.shape[0],1))\n",
    "TrainingSetPrediction_LDA=(TrainY==TrainY_LDA)\n",
    "print('LDA_PC100 on NoLeave VH Dataset, Training Set performance: accuracy ',TrainingSetPrediction_LDA.sum()*100/len(TrainingSetPrediction_LDA),' %; ',TrainingSetPrediction_LDA.sum(),' predictions correct out of ',len(TrainingSetPrediction_LDA),' matches')\n",
    "TestY_LDA=LDAclf_PC100.predict(TestX_PC100).reshape((TestX_PC100.shape[0],1))\n",
    "TestSetPrediction_LDA=(TestY==TestY_LDA)\n",
    "print('LDA_PC100 on NoLeave VH Dataset, Test Set performance: accuracy ',TestSetPrediction_LDA.sum()*100/len(TestSetPrediction_LDA),' %; ',TestSetPrediction_LDA.sum(),' predictions correct out of ',len(TestSetPrediction_LDA),' matches')\n",
    "QDAclf_PC100=QDA()\n",
    "QDAclf_PC100.fit(TrainX_PC100,TrainY.toarray().reshape((TrainY.shape[0],)))\n",
    "TrainY_QDA=QDAclf_PC100.predict(TrainX_PC100).reshape((TrainX_PC100.shape[0],1))\n",
    "TrainingSetPrediction_QDA=(TrainY==TrainY_QDA)\n",
    "print('QDA_PC100 on NoLeave VH Dataset, Training Set performance: accuracy ',TrainingSetPrediction_QDA.sum()*100/len(TrainingSetPrediction_QDA),' %; ',TrainingSetPrediction_QDA.sum(),' predictions correct out of ',len(TrainingSetPrediction_QDA),' matches')\n",
    "TestY_QDA=QDAclf_PC100.predict(TestX_PC100).reshape((TestX_PC100.shape[0],1))\n",
    "TestSetPrediction_QDA=(TestY==TestY_QDA)\n",
    "print('QDA_PC100 on NoLeave VH Dataset, Test Set performance: accuracy ',TestSetPrediction_QDA.sum()*100/len(TestSetPrediction_QDA),' %; ',TestSetPrediction_QDA.sum(),' predictions correct out of ',len(TestSetPrediction_QDA),' matches')\n",
    "del TrainX_PC100, TestX_PC100, v_VH"
   ]
  },
  {
   "cell_type": "code",
   "execution_count": 12,
   "metadata": {
    "collapsed": true
   },
   "outputs": [],
   "source": [
    "dataset=np.load('../data/AllSetSparseInOut_noleave_N.npz')\n",
    "TrainX=np.asmatrix(dataset['TrainX'])[0,0]\n",
    "ValidX=np.asmatrix(dataset['ValidX'])[0,0]\n",
    "TestX=np.asmatrix(dataset['TestX'])[0,0]\n",
    "TrainY=np.asmatrix(dataset['TrainY'])[0,0]\n",
    "ValidY=np.asmatrix(dataset['ValidY'])[0,0]\n",
    "TestY=np.asmatrix(dataset['TestY'])[0,0]\n",
    "del dataset\n",
    "ntrain=600000\n",
    "ntest=600000\n",
    "TrainX=TrainX[:ntrain,:]\n",
    "TrainY=TrainY[:ntrain,:]\n",
    "TestX=TestX[:ntest,:]\n",
    "TestY=TestY[:ntest,:]"
   ]
  },
  {
   "cell_type": "code",
   "execution_count": 13,
   "metadata": {},
   "outputs": [
    {
     "name": "stderr",
     "output_type": "stream",
     "text": [
      "C:\\Users\\Gary\\Anaconda3\\lib\\site-packages\\sklearn\\discriminant_analysis.py:387: UserWarning: Variables are collinear.\n",
      "  warnings.warn(\"Variables are collinear.\")\n"
     ]
    },
    {
     "name": "stdout",
     "output_type": "stream",
     "text": [
      "LDA on NoLeave N Dataset, Training Set performance: accuracy  64.3043333333  %;  385826  predictions correct out of  600000  matches\n",
      "LDA on NoLeave N Dataset, Test Set performance: accuracy  64.387  %;  386322  predictions correct out of  600000  matches\n"
     ]
    },
    {
     "name": "stderr",
     "output_type": "stream",
     "text": [
      "C:\\Users\\Gary\\Anaconda3\\lib\\site-packages\\sklearn\\discriminant_analysis.py:695: UserWarning: Variables are collinear\n",
      "  warnings.warn(\"Variables are collinear\")\n"
     ]
    },
    {
     "name": "stdout",
     "output_type": "stream",
     "text": [
      "QDA on NoLeave N Dataset, Training Set performance: accuracy  53.469  %;  320814  predictions correct out of  600000  matches\n",
      "QDA on NoLeave N Dataset, Test Set performance: accuracy  53.414  %;  320484  predictions correct out of  600000  matches\n"
     ]
    }
   ],
   "source": [
    "LDAclf=LDA()\n",
    "LDAclf.fit(TrainX.toarray(),TrainY.toarray().reshape((TrainX.shape[0],)))\n",
    "TrainY_LDA=LDAclf.predict(TrainX.toarray()).reshape((TrainX.shape[0],1))\n",
    "TrainingSetPrediction_LDA=(TrainY==TrainY_LDA)\n",
    "print('LDA on NoLeave N Dataset, Training Set performance: accuracy ',TrainingSetPrediction_LDA.sum()*100/len(TrainingSetPrediction_LDA),' %; ',TrainingSetPrediction_LDA.sum(),' predictions correct out of ',len(TrainingSetPrediction_LDA),' matches')\n",
    "TestY_LDA=LDAclf.predict(TestX.toarray()).reshape((TestX.shape[0],1))\n",
    "TestSetPrediction_LDA=(TestY==TestY_LDA)\n",
    "print('LDA on NoLeave N Dataset, Test Set performance: accuracy ',TestSetPrediction_LDA.sum()*100/len(TestSetPrediction_LDA),' %; ',TestSetPrediction_LDA.sum(),' predictions correct out of ',len(TestSetPrediction_LDA),' matches')\n",
    "QDAclf=QDA()\n",
    "QDAclf.fit(TrainX.toarray(),TrainY.toarray().reshape((TrainX.shape[0],)))\n",
    "TrainY_QDA=QDAclf.predict(TrainX.toarray()).reshape((TrainX.shape[0],1))\n",
    "TrainingSetPrediction_QDA=(TrainY==TrainY_QDA)\n",
    "print('QDA on NoLeave N Dataset, Training Set performance: accuracy ',TrainingSetPrediction_QDA.sum()*100/len(TrainingSetPrediction_QDA),' %; ',TrainingSetPrediction_QDA.sum(),' predictions correct out of ',len(TrainingSetPrediction_QDA),' matches')\n",
    "TestY_QDA=QDAclf.predict(TestX.toarray()).reshape((TestX.shape[0],1))\n",
    "TestSetPrediction_QDA=(TestY==TestY_QDA)\n",
    "print('QDA on NoLeave N Dataset, Test Set performance: accuracy ',TestSetPrediction_QDA.sum()*100/len(TestSetPrediction_QDA),' %; ',TestSetPrediction_QDA.sum(),' predictions correct out of ',len(TestSetPrediction_QDA),' matches')"
   ]
  },
  {
   "cell_type": "code",
   "execution_count": 14,
   "metadata": {
    "collapsed": true
   },
   "outputs": [],
   "source": [
    "loaded = np.load('../data/NoLeaverN_TrainRightSingularVectors_100.npz')\n",
    "v_N=loaded['v_N']\n",
    "TrainX_PC100=TrainX.dot(v_N)\n",
    "TestX_PC100=TestX.dot(v_N)"
   ]
  },
  {
   "cell_type": "code",
   "execution_count": 15,
   "metadata": {},
   "outputs": [
    {
     "name": "stdout",
     "output_type": "stream",
     "text": [
      "LDA_PC100 on NoLeave N Dataset, Training Set performance: accuracy  62.1283333333  %;  372770  predictions correct out of  600000  matches\n",
      "LDA_PC100 on NoLeave N Dataset, Test Set performance: accuracy  62.2371666667  %;  373423  predictions correct out of  600000  matches\n",
      "QDA_PC100 on NoLeave N Dataset, Training Set performance: accuracy  62.004  %;  372024  predictions correct out of  600000  matches\n",
      "QDA_PC100 on NoLeave N Dataset, Test Set performance: accuracy  61.9315  %;  371589  predictions correct out of  600000  matches\n"
     ]
    }
   ],
   "source": [
    "LDAclf_PC100=LDA()\n",
    "LDAclf_PC100.fit(TrainX_PC100,TrainY.toarray().reshape((TrainY.shape[0],)))\n",
    "TrainY_LDA=LDAclf_PC100.predict(TrainX_PC100).reshape((TrainX_PC100.shape[0],1))\n",
    "TrainingSetPrediction_LDA=(TrainY==TrainY_LDA)\n",
    "print('LDA_PC100 on NoLeave N Dataset, Training Set performance: accuracy ',TrainingSetPrediction_LDA.sum()*100/len(TrainingSetPrediction_LDA),' %; ',TrainingSetPrediction_LDA.sum(),' predictions correct out of ',len(TrainingSetPrediction_LDA),' matches')\n",
    "TestY_LDA=LDAclf_PC100.predict(TestX_PC100).reshape((TestX_PC100.shape[0],1))\n",
    "TestSetPrediction_LDA=(TestY==TestY_LDA)\n",
    "print('LDA_PC100 on NoLeave N Dataset, Test Set performance: accuracy ',TestSetPrediction_LDA.sum()*100/len(TestSetPrediction_LDA),' %; ',TestSetPrediction_LDA.sum(),' predictions correct out of ',len(TestSetPrediction_LDA),' matches')\n",
    "QDAclf_PC100=QDA()\n",
    "QDAclf_PC100.fit(TrainX_PC100,TrainY.toarray().reshape((TrainY.shape[0],)))\n",
    "TrainY_QDA=QDAclf_PC100.predict(TrainX_PC100).reshape((TrainX_PC100.shape[0],1))\n",
    "TrainingSetPrediction_QDA=(TrainY==TrainY_QDA)\n",
    "print('QDA_PC100 on NoLeave N Dataset, Training Set performance: accuracy ',TrainingSetPrediction_QDA.sum()*100/len(TrainingSetPrediction_QDA),' %; ',TrainingSetPrediction_QDA.sum(),' predictions correct out of ',len(TrainingSetPrediction_QDA),' matches')\n",
    "TestY_QDA=QDAclf_PC100.predict(TestX_PC100).reshape((TestX_PC100.shape[0],1))\n",
    "TestSetPrediction_QDA=(TestY==TestY_QDA)\n",
    "print('QDA_PC100 on NoLeave N Dataset, Test Set performance: accuracy ',TestSetPrediction_QDA.sum()*100/len(TestSetPrediction_QDA),' %; ',TestSetPrediction_QDA.sum(),' predictions correct out of ',len(TestSetPrediction_QDA),' matches')\n",
    "del TrainX_PC100, TestX_PC100, v_N"
   ]
  },
  {
   "cell_type": "code",
   "execution_count": null,
   "metadata": {
    "collapsed": true
   },
   "outputs": [],
   "source": []
  },
  {
   "cell_type": "code",
   "execution_count": null,
   "metadata": {
    "collapsed": true
   },
   "outputs": [],
   "source": []
  }
 ],
 "metadata": {
  "kernelspec": {
   "display_name": "Python 3",
   "language": "python",
   "name": "python3"
  },
  "language_info": {
   "codemirror_mode": {
    "name": "ipython",
    "version": 3
   },
   "file_extension": ".py",
   "mimetype": "text/x-python",
   "name": "python",
   "nbconvert_exporter": "python",
   "pygments_lexer": "ipython3",
   "version": "3.6.5"
  }
 },
 "nbformat": 4,
 "nbformat_minor": 2
}
