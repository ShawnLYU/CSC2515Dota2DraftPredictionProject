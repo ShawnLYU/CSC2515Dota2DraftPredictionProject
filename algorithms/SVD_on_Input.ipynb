{
 "cells": [
  {
   "cell_type": "code",
   "execution_count": 1,
   "metadata": {
    "collapsed": true
   },
   "outputs": [],
   "source": [
    "%matplotlib inline\n",
    "import numpy as np\n",
    "import pandas as pd\n",
    "from scipy import sparse\n",
    "from scipy.sparse import linalg\n",
    "import matplotlib.pyplot as plt"
   ]
  },
  {
   "cell_type": "code",
   "execution_count": 2,
   "metadata": {
    "collapsed": true
   },
   "outputs": [],
   "source": [
    "dataset=np.load('../data/all/all_IO_noleave.npz')\n",
    "TrainInputSparse=np.asmatrix(dataset['TrainX'])[0,0]\n",
    "ValidInputSparse=np.asmatrix(dataset['ValidX'])[0,0]\n",
    "TestInputSparse=np.asmatrix(dataset['TestX'])[0,0]\n",
    "TrainTargetSparse=np.asmatrix(dataset['TrainY'])[0,0]\n",
    "ValidTargetSparse=np.asmatrix(dataset['ValidY'])[0,0]\n",
    "TestTargetSparse=np.asmatrix(dataset['TestY'])[0,0]\n",
    "del dataset"
   ]
  },
  {
   "cell_type": "code",
   "execution_count": 3,
   "metadata": {
    "collapsed": true
   },
   "outputs": [],
   "source": [
    "# n=200\n",
    "# u,s,vt=linalg.svds(TrainInputSparse,n)\n",
    "# u[:,:n]=u[:,n-1::-1]\n",
    "# s=s[::-1]\n",
    "# vt[:n,:]=vt[n-1::-1,:]\n",
    "# v=vt.transpose()\n",
    "# np.savez_compressed('TrainsetSVDRightSingularVectors_200.npz',v)\n",
    "# plt.plot(s)\n",
    "\n",
    "v=np.load('../data/TrainsetSVDRightSingularVectors_200.npz')\n",
    "v=v['v']"
   ]
  },
  {
   "cell_type": "code",
   "execution_count": 4,
   "metadata": {},
   "outputs": [
    {
     "data": {
      "text/plain": [
       "(226, 200)"
      ]
     },
     "execution_count": 4,
     "metadata": {},
     "output_type": "execute_result"
    }
   ],
   "source": [
    "v.shape"
   ]
  },
  {
   "cell_type": "code",
   "execution_count": 5,
   "metadata": {
    "collapsed": true
   },
   "outputs": [],
   "source": [
    "v70=v[:,0:70]"
   ]
  },
  {
   "cell_type": "code",
   "execution_count": 6,
   "metadata": {
    "collapsed": true
   },
   "outputs": [],
   "source": [
    "TrainInputSVD70=TrainInputSparse.dot(v70)"
   ]
  },
  {
   "cell_type": "code",
   "execution_count": 7,
   "metadata": {
    "collapsed": true
   },
   "outputs": [],
   "source": [
    "TrainY=TrainTargetSparse.toarray()"
   ]
  },
  {
   "cell_type": "code",
   "execution_count": 8,
   "metadata": {},
   "outputs": [
    {
     "name": "stdout",
     "output_type": "stream",
     "text": [
      "Naive Bayes Model on PC70, Training Set performance: accuracy  59.8171674861  %;  1213536  predictions correct out of  2028742  matches\n"
     ]
    }
   ],
   "source": [
    "from sklearn.naive_bayes import GaussianNB\n",
    "NBclf=GaussianNB()\n",
    "NBclf.fit(TrainInputSVD70,TrainY.reshape((TrainY.shape[0],)))\n",
    "TrainY_NB=NBclf.predict(TrainInputSVD70).reshape((TrainInputSVD70.shape[0],1))\n",
    "TrainingSetPrediction_NB=(TrainY==TrainY_NB)\n",
    "print('Naive Bayes Model on PC70, Training Set performance: accuracy ',TrainingSetPrediction_NB.sum()*100/len(TrainingSetPrediction_NB),' %; ',TrainingSetPrediction_NB.sum(),' predictions correct out of ',len(TrainingSetPrediction_NB),' matches')"
   ]
  },
  {
   "cell_type": "code",
   "execution_count": 9,
   "metadata": {},
   "outputs": [
    {
     "name": "stdout",
     "output_type": "stream",
     "text": [
      "Logistic Regression Model on PC70, Training Set performance: accuracy  60.1037490228  %;  1219350  predictions correct out of  2028742  matches\n"
     ]
    }
   ],
   "source": [
    "from sklearn.linear_model import LogisticRegression\n",
    "lr = LogisticRegression(penalty='l2',solver='sag')\n",
    "lr.fit(TrainInputSVD70, TrainY.reshape((TrainY.shape[0],)))\n",
    "TrainY_LR=lr.predict(TrainInputSVD70).reshape((TrainInputSVD70.shape[0],1))\n",
    "TrainingSetPrediction_LR=(TrainY==TrainY_LR)\n",
    "print('Logistic Regression Model on PC70, Training Set performance: accuracy ',TrainingSetPrediction_LR.sum()*100/len(TrainingSetPrediction_LR),' %; ',TrainingSetPrediction_LR.sum(),' predictions correct out of ',len(TrainingSetPrediction_LR),' matches')"
   ]
  },
  {
   "cell_type": "code",
   "execution_count": 10,
   "metadata": {},
   "outputs": [
    {
     "name": "stdout",
     "output_type": "stream",
     "text": [
      "Linear SVM on PC70, Training Set performance: accuracy  60.0557882668  %;  1218377  predictions correct out of  2028742  matches\n"
     ]
    }
   ],
   "source": [
    "from sklearn import svm\n",
    "svmclf_lin=svm.LinearSVC()\n",
    "n=100000\n",
    "svmclf_lin.fit(TrainInputSVD70[0:n,:], TrainY[0:n,:].reshape((n,)))\n",
    "TrainY_SVMlin=svmclf_lin.predict(TrainInputSVD70).reshape((TrainInputSVD70.shape[0],1))\n",
    "TrainingSetPrediction_SVMlin=(TrainY==TrainY_SVMlin)\n",
    "print('Linear SVM on PC70, Training Set performance: accuracy ',TrainingSetPrediction_SVMlin.sum()*100/len(TrainingSetPrediction_SVMlin),' %; ',TrainingSetPrediction_SVMlin.sum(),' predictions correct out of ',len(TrainingSetPrediction_SVMlin),' matches')"
   ]
  },
  {
   "cell_type": "code",
   "execution_count": 11,
   "metadata": {},
   "outputs": [
    {
     "data": {
      "text/plain": [
       "SVC(C=1.0, cache_size=200, class_weight=None, coef0=0.0,\n",
       "  decision_function_shape=None, degree=3, gamma='auto', kernel='rbf',\n",
       "  max_iter=-1, probability=False, random_state=None, shrinking=True,\n",
       "  tol=0.001, verbose=False)"
      ]
     },
     "execution_count": 11,
     "metadata": {},
     "output_type": "execute_result"
    }
   ],
   "source": [
    "from sklearn import svm\n",
    "svmclf_rbf=svm.SVC()\n",
    "n=20000\n",
    "svmclf_rbf.fit(TrainInputSVD70[0:n,:], TrainY[0:n,:].reshape((n,)))"
   ]
  },
  {
   "cell_type": "code",
   "execution_count": 12,
   "metadata": {},
   "outputs": [
    {
     "name": "stdout",
     "output_type": "stream",
     "text": [
      "RBF SVM on PC70, Training Set performance: accuracy  60.2275  %;  24091  predictions correct out of  40000  matches\n"
     ]
    }
   ],
   "source": [
    "n2=40000\n",
    "TrainY_SVMrbf=svmclf_rbf.predict(TrainInputSVD70[:n2,:]).reshape((n2,1))\n",
    "TrainingSetPrediction_SVMrbf=(TrainY[:n2,:]==TrainY_SVMrbf)\n",
    "print('RBF SVM on PC70, Training Set performance: accuracy ',TrainingSetPrediction_SVMrbf.sum()*100/len(TrainingSetPrediction_SVMrbf),' %; ',TrainingSetPrediction_SVMrbf.sum(),' predictions correct out of ',len(TrainingSetPrediction_SVMrbf),' matches')"
   ]
  },
  {
   "cell_type": "code",
   "execution_count": 13,
   "metadata": {
    "collapsed": true
   },
   "outputs": [],
   "source": [
    "del TrainInputSVD70\n",
    "TestInputSVD70=TestInputSparse.dot(v70)\n",
    "TestY=TestTargetSparse.toarray()"
   ]
  },
  {
   "cell_type": "code",
   "execution_count": 14,
   "metadata": {},
   "outputs": [
    {
     "name": "stdout",
     "output_type": "stream",
     "text": [
      "Naive Bayes Model on PC70, Test Set performance: accuracy  59.7333785501  %;  908878  predictions correct out of  1521558  matches\n"
     ]
    }
   ],
   "source": [
    "TestY_NB=NBclf.predict(TestInputSVD70).reshape((TestInputSVD70.shape[0],1))\n",
    "TestSetPrediction_NB=(TestY==TestY_NB)\n",
    "print('Naive Bayes Model on PC70, Test Set performance: accuracy ',TestSetPrediction_NB.sum()*100/len(TestSetPrediction_NB),' %; ',TestSetPrediction_NB.sum(),' predictions correct out of ',len(TestSetPrediction_NB),' matches')"
   ]
  },
  {
   "cell_type": "code",
   "execution_count": 15,
   "metadata": {},
   "outputs": [
    {
     "name": "stdout",
     "output_type": "stream",
     "text": [
      "Logistic Regression Model on PC70, Test Set performance: accuracy  60.0190725559  %;  913225  predictions correct out of  1521558  matches\n"
     ]
    }
   ],
   "source": [
    "TestY_LR=lr.predict(TestInputSVD70).reshape((TestInputSVD70.shape[0],1))\n",
    "TestSetPrediction_LR=(TestY==TestY_LR)\n",
    "print('Logistic Regression Model on PC70, Test Set performance: accuracy ',TestSetPrediction_LR.sum()*100/len(TestSetPrediction_LR),' %; ',TestSetPrediction_LR.sum(),' predictions correct out of ',len(TestSetPrediction_LR),' matches')"
   ]
  },
  {
   "cell_type": "code",
   "execution_count": 16,
   "metadata": {},
   "outputs": [
    {
     "name": "stdout",
     "output_type": "stream",
     "text": [
      "Linear SVM on PC70, Test Set performance: accuracy  59.9551249443  %;  912252  predictions correct out of  1521558  matches\n"
     ]
    }
   ],
   "source": [
    "TestY_SVMlin=svmclf_lin.predict(TestInputSVD70).reshape((TestInputSVD70.shape[0],1))\n",
    "TestSetPrediction_SVMlin=(TestY==TestY_SVMlin)\n",
    "print('Linear SVM on PC70, Test Set performance: accuracy ',TestSetPrediction_SVMlin.sum()*100/len(TestSetPrediction_SVMlin),' %; ',TestSetPrediction_SVMlin.sum(),' predictions correct out of ',len(TestSetPrediction_SVMlin),' matches')"
   ]
  },
  {
   "cell_type": "code",
   "execution_count": 17,
   "metadata": {},
   "outputs": [
    {
     "name": "stdout",
     "output_type": "stream",
     "text": [
      "RBF SVM on PC70, Test Set performance: accuracy  59.4825  %;  23793  predictions correct out of  40000  matches\n"
     ]
    }
   ],
   "source": [
    "n2=40000\n",
    "TestY_SVMrbf=svmclf_rbf.predict(TestInputSVD70[:n2,:]).reshape((n2,1))\n",
    "TestSetPrediction_SVMrbf=(TestY[:n2,:]==TestY_SVMrbf)\n",
    "print('RBF SVM on PC70, Test Set performance: accuracy ',TestSetPrediction_SVMrbf.sum()*100/len(TestSetPrediction_SVMrbf),' %; ',TestSetPrediction_SVMrbf.sum(),' predictions correct out of ',len(TestSetPrediction_SVMrbf),' matches')"
   ]
  },
  {
   "cell_type": "code",
   "execution_count": 13,
   "metadata": {
    "collapsed": true
   },
   "outputs": [],
   "source": [
    "# with open('TrainSetSparseInOutSVD100.npz','wb') as handle:\n",
    "#     np.savez_compressed(handle,TrainInputSVD100=TrainInputSVD100,TrainTargetSparse=TrainTargetSparse)\n",
    "\n",
    "# with open('ValidSetSparseInOutSVD100.npz','wb') as handle:\n",
    "#     np.savez_compressed(handle,ValidInputSVD100=ValidInputSVD100,ValidTargetSparse=ValidTargetSparse)\n",
    "    \n",
    "# with open('TestSetSparseInOutSVD100.npz','wb') as handle:\n",
    "#     np.savez_compressed(handle,TestInputSVD100=TestInputSVD100,TestTargetSparse=TestTargetSparse)"
   ]
  },
  {
   "cell_type": "code",
   "execution_count": null,
   "metadata": {
    "collapsed": true
   },
   "outputs": [],
   "source": []
  },
  {
   "cell_type": "code",
   "execution_count": null,
   "metadata": {
    "collapsed": true
   },
   "outputs": [],
   "source": []
  }
 ],
 "metadata": {
  "kernelspec": {
   "display_name": "Python 3",
   "language": "python",
   "name": "python3"
  },
  "language_info": {
   "codemirror_mode": {
    "name": "ipython",
    "version": 3
   },
   "file_extension": ".py",
   "mimetype": "text/x-python",
   "name": "python",
   "nbconvert_exporter": "python",
   "pygments_lexer": "ipython3",
   "version": "3.6.5"
  }
 },
 "nbformat": 4,
 "nbformat_minor": 2
}
