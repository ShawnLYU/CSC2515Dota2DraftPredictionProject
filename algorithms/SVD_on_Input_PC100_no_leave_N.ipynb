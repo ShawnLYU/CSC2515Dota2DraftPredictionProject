{
 "cells": [
  {
   "cell_type": "code",
   "execution_count": 1,
   "metadata": {
    "collapsed": true
   },
   "outputs": [],
   "source": [
    "%matplotlib inline\n",
    "import numpy as np\n",
    "import pandas as pd\n",
    "from scipy import sparse\n",
    "from scipy.sparse import linalg\n",
    "import matplotlib.pyplot as plt"
   ]
  },
  {
   "cell_type": "code",
   "execution_count": 2,
   "metadata": {
    "collapsed": true
   },
   "outputs": [],
   "source": [
    "dataset=np.load('../data/AllSetSparseInOut_noleave_N.npz')\n",
    "TrainX=np.asmatrix(dataset['TrainX'])[0,0]\n",
    "ValidX=np.asmatrix(dataset['ValidX'])[0,0]\n",
    "TestX=np.asmatrix(dataset['TestX'])[0,0]\n",
    "TrainY=np.asarray(np.asmatrix(dataset['TrainY'])[0,0].todense())\n",
    "ValidY=np.asarray(np.asmatrix(dataset['ValidY'])[0,0].todense())\n",
    "TestY=np.asarray(np.asmatrix(dataset['TestY'])[0,0].todense())\n",
    "del dataset"
   ]
  },
  {
   "cell_type": "code",
   "execution_count": 3,
   "metadata": {},
   "outputs": [],
   "source": [
    "loaded = np.load('../data/NoLeaverN_TrainRightSingularVectors_100.npz')\n",
    "v_N=loaded['v_N']\n",
    "TrainX_PC100=TrainX.dot(v_N)\n",
    "TestX_PC100=TestX.dot(v_N)"
   ]
  },
  {
   "cell_type": "code",
   "execution_count": 4,
   "metadata": {},
   "outputs": [
    {
     "name": "stdout",
     "output_type": "stream",
     "text": [
      "Naive Bayes Model on PC100, NoLeaver Normal Training Set performance: accuracy  61.5832446152  % on 1235185 matches\n",
      "Naive Bayes Model on PC100, NoLeaver Normal Test Set performance: accuracy  61.5545493573  % on 617285 matches\n"
     ]
    }
   ],
   "source": [
    "from sklearn.naive_bayes import GaussianNB\n",
    "NBclf=GaussianNB()\n",
    "NBclf.fit(TrainX_PC100,TrainY.ravel())\n",
    "print('Naive Bayes Model on PC100, NoLeaver Normal Training Set performance: accuracy ',NBclf.score(TrainX_PC100,TrainY)*100,' % on',TrainX_PC100.shape[0],'matches')\n",
    "print('Naive Bayes Model on PC100, NoLeaver Normal Test Set performance: accuracy ',NBclf.score(TestX_PC100,TestY)*100,' % on',TestX_PC100.shape[0],'matches')"
   ]
  },
  {
   "cell_type": "code",
   "execution_count": 5,
   "metadata": {},
   "outputs": [
    {
     "name": "stdout",
     "output_type": "stream",
     "text": [
      "Logistic Regression Model on PC100, NoLeaver Normal Training Set performance: accuracy  62.2067949336  % on 1235185 matches\n",
      "Logistic Regression Model on PC100, NoLeaver Normal Test Set performance: accuracy  62.243534186  % on 617285 matches\n"
     ]
    }
   ],
   "source": [
    "from sklearn.linear_model import LogisticRegression\n",
    "lr = LogisticRegression(penalty='l2',solver='sag')\n",
    "lr.fit(TrainX_PC100, TrainY.ravel())\n",
    "print('Logistic Regression Model on PC100, NoLeaver Normal Training Set performance: accuracy ',lr.score(TrainX_PC100,TrainY)*100,' % on',TrainX_PC100.shape[0],'matches')\n",
    "print('Logistic Regression Model on PC100, NoLeaver Normal Test Set performance: accuracy ',lr.score(TestX_PC100,TestY)*100,' % on',TestX_PC100.shape[0],'matches')"
   ]
  },
  {
   "cell_type": "code",
   "execution_count": 7,
   "metadata": {},
   "outputs": [
    {
     "name": "stdout",
     "output_type": "stream",
     "text": [
      "Linear SVM on PC100, NoLeaver Normal Training Set performance: accuracy  50.726  % on 100000 matches\n",
      "Linear SVM on PC100, NoLeaver Normal Test Set performance: accuracy  50.973537345  % on 617285 matches\n"
     ]
    }
   ],
   "source": [
    "from sklearn import svm\n",
    "svmclf_lin=svm.LinearSVC()\n",
    "n=100000\n",
    "svmclf_lin.fit(TrainX_PC100[0:n,:], TrainY[0:n,:].ravel())\n",
    "print('Linear SVM on PC100, NoLeaver Normal Training Set performance: accuracy ',svmclf_lin.score(TrainX_PC100[0:n,:],TrainY[0:n,:])*100,' % on',n,'matches')\n",
    "print('Linear SVM on PC100, NoLeaver Normal Test Set performance: accuracy ',svmclf_lin.score(TestX_PC100,TestY)*100,' % on',TestX_PC100.shape[0],'matches')"
   ]
  },
  {
   "cell_type": "code",
   "execution_count": 8,
   "metadata": {},
   "outputs": [
    {
     "name": "stdout",
     "output_type": "stream",
     "text": [
      "RBF SVM on PC100, NoLeaver Normal Training Set performance: accuracy  100.0  % on 20000 matches\n",
      "RBF SVM on PC100, NoLeaver Normal Test Set performance: accuracy  53.94  % on 20000 matches\n"
     ]
    }
   ],
   "source": [
    "from sklearn import svm\n",
    "svmclf_rbf=svm.SVC()\n",
    "n=20000\n",
    "svmclf_rbf.fit(TrainX_PC100[0:n,:], TrainY[0:n,:].ravel())\n",
    "print('RBF SVM on PC100, NoLeaver Normal Training Set performance: accuracy ',svmclf_rbf.score(TrainX_PC100[0:n,:],TrainY[0:n,:])*100,' % on',n,'matches')\n",
    "print('RBF SVM on PC100, NoLeaver Normal Test Set performance: accuracy ',svmclf_rbf.score(TestX_PC100[0:n,:],TestY[0:n,:])*100,' % on',n,'matches')"
   ]
  },
  {
   "cell_type": "code",
   "execution_count": 9,
   "metadata": {},
   "outputs": [
    {
     "name": "stdout",
     "output_type": "stream",
     "text": [
      "Naive Bayes Model on PC100, NoLeaver Normal Training Set performance: accuracy  61.5832446152  % on 1235185 matches\n",
      "Naive Bayes Model on PC100, NoLeaver Normal Test Set performance: accuracy  61.5545493573  % on 617285 matches\n",
      "Logistic Regression Model on PC100, NoLeaver Normal Training Set performance: accuracy  62.196674992  % on 1235185 matches\n",
      "Logistic Regression Model on PC100, NoLeaver Normal Test Set performance: accuracy  62.2466121808  % on 617285 matches\n"
     ]
    }
   ],
   "source": [
    "del TrainX_PC100\n",
    "loaded = np.load('../data/NoLeaverN_TrainRightSingularVectors_100_old.npz')\n",
    "v_N2=loaded['v_N']\n",
    "TrainX_PC100=TrainX.dot(v_N2)\n",
    "TestX_PC100=TestX.dot(v_N2)\n",
    "\n",
    "NBclf=GaussianNB()\n",
    "NBclf.fit(TrainX_PC100,TrainY.ravel())\n",
    "print('Naive Bayes Model on PC100, NoLeaver Normal Training Set performance: accuracy ',NBclf.score(TrainX_PC100,TrainY)*100,' % on',TrainX_PC100.shape[0],'matches')\n",
    "print('Naive Bayes Model on PC100, NoLeaver Normal Test Set performance: accuracy ',NBclf.score(TestX_PC100,TestY)*100,' % on',TestX_PC100.shape[0],'matches')\n",
    "\n",
    "lr = LogisticRegression(penalty='l2',solver='sag')\n",
    "lr.fit(TrainX_PC100, TrainY.ravel())\n",
    "print('Logistic Regression Model on PC100, NoLeaver Normal Training Set performance: accuracy ',lr.score(TrainX_PC100,TrainY)*100,' % on',TrainX_PC100.shape[0],'matches')\n",
    "print('Logistic Regression Model on PC100, NoLeaver Normal Test Set performance: accuracy ',lr.score(TestX_PC100,TestY)*100,' % on',TestX_PC100.shape[0],'matches')"
   ]
  },
  {
   "cell_type": "code",
   "execution_count": null,
   "metadata": {
    "collapsed": true
   },
   "outputs": [],
   "source": []
  },
  {
   "cell_type": "code",
   "execution_count": null,
   "metadata": {
    "collapsed": true
   },
   "outputs": [],
   "source": []
  }
 ],
 "metadata": {
  "kernelspec": {
   "display_name": "Python 3",
   "language": "python",
   "name": "python3"
  },
  "language_info": {
   "codemirror_mode": {
    "name": "ipython",
    "version": 3
   },
   "file_extension": ".py",
   "mimetype": "text/x-python",
   "name": "python",
   "nbconvert_exporter": "python",
   "pygments_lexer": "ipython3",
   "version": "3.6.1"
  }
 },
 "nbformat": 4,
 "nbformat_minor": 2
}
