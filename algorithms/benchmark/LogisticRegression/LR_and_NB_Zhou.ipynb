{
 "cells": [
  {
   "cell_type": "code",
   "execution_count": 7,
   "metadata": {},
   "outputs": [],
   "source": [
    "from scipy import sparse\n",
    "import os\n",
    "import pandas as pd\n",
    "from sklearn.linear_model import LogisticRegression"
   ]
  },
  {
   "cell_type": "code",
   "execution_count": 8,
   "metadata": {},
   "outputs": [],
   "source": [
    "def load_data(dataX_path, dataY_path, data_root='data/processed'):\n",
    "    dataX = sparse.load_npz(os.path.join(data_root, dataX_path))\n",
    "    dataY = pd.read_csv(os.path.join(data_root, dataY_path), header=None)\n",
    "\n",
    "    print('Input Matrix Shape {0} x {1}, Target Shape {2} x {3}.'.format(dataX.shape[0], dataX.shape[1],\n",
    "                                                                         dataY.shape[0], dataY.shape[1]))\n",
    "    return dataX.toarray(), dataY.values.ravel()"
   ]
  },
  {
   "cell_type": "code",
   "execution_count": 9,
   "metadata": {},
   "outputs": [],
   "source": [
    "def start_lr():\n",
    "    trainX, trainY = load_data('trainsetInputVector_sparse.npz', 'trainsetResult.csv')\n",
    "    validX, validY = load_data('validsetInputVector_sparse.npz', 'validsetResult.csv')\n",
    "    testX, testY = load_data('testsetInputVector_sparse.npz', 'testsetResult.csv')\n",
    "\n",
    "    solvers = ['newton-cg', 'lbfgs', 'liblinear', 'sag', 'saga']\n",
    "    best_score = 0\n",
    "    best_solver = 'liblinear'\n",
    "\n",
    "    for sol in solvers:\n",
    "        lr = LogisticRegression(random_state=0, solver=sol)\n",
    "        lr.fit(trainX, trainY)\n",
    "        score = lr.score(validX, validY)\n",
    "        if score > best_score:\n",
    "            best_score = score\n",
    "            best_solver = sol\n",
    "        print(\"Validation accuracy using {0}: {1}\".format(sol, score))\n",
    "\n",
    "    lr = LogisticRegression(random_state=0, solver=best_solver)\n",
    "    lr.fit(trainX, trainY)\n",
    "    test_score = lr.score(testX, testY)\n",
    "\n",
    "    print(\"Test set accuracy using {0}: {1}\".format(best_solver, test_score))\n",
    "    "
   ]
  },
  {
   "cell_type": "code",
   "execution_count": null,
   "metadata": {},
   "outputs": [
    {
     "name": "stdout",
     "output_type": "stream",
     "text": [
      "Input Matrix Shape 2028742 x 226, Target Shape 2028742 x 1.\n",
      "Input Matrix Shape 1521558 x 226, Target Shape 1521558 x 1.\n"
     ]
    }
   ],
   "source": [
    "start_lr()"
   ]
  },
  {
   "cell_type": "code",
   "execution_count": null,
   "metadata": {},
   "outputs": [],
   "source": [
    "from scipy import sparse\n",
    "import os\n",
    "import pandas as pd"
   ]
  },
  {
   "cell_type": "code",
   "execution_count": null,
   "metadata": {},
   "outputs": [],
   "source": [
    "def start_naive_bayes():\n",
    "    trainX, trainY = load_data('trainsetInputVector_sparse.npz', 'trainsetResult.csv')\n",
    "    validX, validY = load_data('validsetInputVector_sparse.npz', 'validsetResult.csv')\n",
    "    testX, testY = load_data('testsetInputVector_sparse.npz', 'testsetResult.csv')\n",
    "\n",
    "    from sklearn.naive_bayes import GaussianNB\n",
    "    gauss_nb = GaussianNB()\n",
    "    gauss_nb.fit(trainX, trainY)\n",
    "    gauss_score = gauss_nb.score(validX, validY)\n",
    "    print(\"Validation accuracy using Gaussian NB: %f\" % gauss_score)\n",
    "\n",
    "    gauss_score = gauss_nb.score(testX, testY)\n",
    "    print(\"Test set accuracy using Gaussian NB: %f\" % gauss_score)\n",
    "\n",
    "    from sklearn.naive_bayes import MultinomialNB\n",
    "    multi_nb = MultinomialNB()\n",
    "    multi_nb.fit(trainX, trainY)\n",
    "    multi_score = multi_nb.score(validX, validY)\n",
    "    print(\"Validation accuracy using Multinomial NB: %f\" % multi_score)\n",
    "\n",
    "    multi_score = multi_nb.score(testX, testY)\n",
    "    print(\"Test set accuracy using Multinomial NB: %f\" % multi_score)\n",
    "\n",
    "    from sklearn.naive_bayes import BernoulliNB\n",
    "    bern_nb = BernoulliNB()\n",
    "    bern_nb.fit(trainX, trainY)\n",
    "    bern_score = bern_nb.score(validX, validY)\n",
    "    print(\"Validation accuracy using Bernoulli NB: %f\" % bern_score)\n",
    "\n",
    "    bern_score = bern_nb.score(testX, testY)\n",
    "    print(\"Test set accuracy using Bernoulli NB: %f\" % bern_score)\n"
   ]
  }
 ],
 "metadata": {
  "kernelspec": {
   "display_name": "Python 3",
   "language": "python",
   "name": "python3"
  },
  "language_info": {
   "codemirror_mode": {
    "name": "ipython",
    "version": 3
   },
   "file_extension": ".py",
   "mimetype": "text/x-python",
   "name": "python",
   "nbconvert_exporter": "python",
   "pygments_lexer": "ipython3",
   "version": "3.5.2"
  }
 },
 "nbformat": 4,
 "nbformat_minor": 2
}
