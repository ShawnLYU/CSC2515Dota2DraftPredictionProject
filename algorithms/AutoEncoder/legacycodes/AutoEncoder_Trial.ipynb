{
 "cells": [
  {
   "cell_type": "code",
   "execution_count": 1,
   "metadata": {},
   "outputs": [],
   "source": [
    "import torch\n",
    "import torchvision\n",
    "from torch import nn\n",
    "from torch.autograd import Variable\n",
    "from torch.utils.data import DataLoader\n",
    "from torchvision import transforms\n",
    "from torchvision.datasets import MNIST\n",
    "from torchvision.utils import save_image"
   ]
  },
  {
   "cell_type": "code",
   "execution_count": 2,
   "metadata": {},
   "outputs": [],
   "source": [
    "num_epochs = 200\n",
    "batch_size = 128\n",
    "learning_rate = 3e-3"
   ]
  },
  {
   "cell_type": "code",
   "execution_count": 3,
   "metadata": {},
   "outputs": [],
   "source": [
    "def to_img(x):\n",
    "    x = 0.5 * (x + 1)\n",
    "    x = x.clamp(0, 1)\n",
    "    x = x.view(x.size(0), 1, 28, 28)\n",
    "    return x"
   ]
  },
  {
   "cell_type": "code",
   "execution_count": 4,
   "metadata": {},
   "outputs": [],
   "source": [
    "class autoencoder(nn.Module):\n",
    "    def __init__(self):\n",
    "        super(autoencoder, self).__init__()\n",
    "        self.encoder = nn.Sequential(\n",
    "            nn.Linear(113, 226),nn.ReLU(True),\n",
    "            nn.Linear(226, 100),nn.ReLU(True), \n",
    "            nn.Linear(100, 10)\n",
    "        )\n",
    "        self.decoder = nn.Sequential(\n",
    "            nn.Linear(10, 100),nn.ReLU(True),\n",
    "            nn.Linear(100, 226),nn.ReLU(True),\n",
    "            nn.Linear(226, 113),\n",
    "            nn.Sigmoid()\n",
    "        )\n",
    "\n",
    "    def forward(self, x):\n",
    "        encoded = self.encoder(x)\n",
    "        decoded = self.decoder(encoded)\n",
    "        return encoded, decoded\n",
    "    "
   ]
  },
  {
   "cell_type": "code",
   "execution_count": 5,
   "metadata": {},
   "outputs": [],
   "source": [
    "model = autoencoder()\n",
    "criterion = nn.BCELoss()\n",
    "optimizer = torch.optim.Adam(model.parameters(), lr=learning_rate, weight_decay=1e-5)"
   ]
  },
  {
   "cell_type": "code",
   "execution_count": 6,
   "metadata": {},
   "outputs": [],
   "source": [
    "import numpy as np\n",
    "dataset=np.load('../data/all/all_IO_noleave_N.npz')\n",
    "TrainX=np.asarray(np.asmatrix(dataset['TrainX'])[0,0].todense()).astype(np.float32)\n",
    "ValidX=np.asarray(np.asmatrix(dataset['ValidX'])[0,0].todense()).astype(np.float32)\n",
    "TestX=np.asarray(np.asmatrix(dataset['TestX'])[0,0].todense()).astype(np.float32)\n",
    "TrainXm=np.asmatrix(dataset['TrainX'])[0,0].todense().astype(np.float32)\n",
    "ValidXm=np.asmatrix(dataset['ValidX'])[0,0].todense().astype(np.float32)\n",
    "TestXm=np.asmatrix(dataset['TestX'])[0,0].todense().astype(np.float32)"
   ]
  },
  {
   "cell_type": "code",
   "execution_count": 7,
   "metadata": {},
   "outputs": [],
   "source": [
    "n=226\n",
    "TrainXae=torch.from_numpy(np.vstack((TrainX[:,:int(n/2)],TrainX[:,int(n/2):]))).float()\n",
    "ValidXae=torch.from_numpy(np.vstack((ValidX[:,:int(n/2)],ValidX[:,int(n/2):]))).float()\n",
    "TestXae=torch.from_numpy(np.vstack((TestX[:,:int(n/2)],TestX[:,int(n/2):]))).float()"
   ]
  },
  {
   "cell_type": "code",
   "execution_count": 8,
   "metadata": {},
   "outputs": [],
   "source": [
    "dataloader=DataLoader(TrainXae, batch_size=batch_size, shuffle=True)"
   ]
  },
  {
   "cell_type": "code",
   "execution_count": null,
   "metadata": {},
   "outputs": [],
   "source": [
    "for epoch in range(num_epochs):\n",
    "    for data in dataloader:\n",
    "        encoding, recon = model(data)\n",
    "        loss = criterion(recon, data)\n",
    "        # ===================backward====================\n",
    "        optimizer.zero_grad()\n",
    "        loss.backward()\n",
    "        optimizer.step()\n",
    "    # ===================log========================\n",
    "#     print('epoch [{}/{}], loss:{:.4f}'.format(epoch + 1, num_epochs, loss.data[0]))\n",
    "    if epoch % 1 == 0:\n",
    "        encoding, recon = model(TrainXae)\n",
    "        loss = criterion(recon, TrainXae)\n",
    "        print('At epoch [{}/{}], Total Training Set loss:{:.4f}'.format(epoch + 1, num_epochs, loss.data[0]))        "
   ]
  },
  {
   "cell_type": "code",
   "execution_count": null,
   "metadata": {},
   "outputs": [],
   "source": [
    "encodingTrain, reconTrain = model(TrainXae)\n",
    "lossTrain = criterion(reconTrain, TrainXae)\n",
    "print('Training Set Draft Reconstruction Loss:{:.4f}'.format(lossTrain.data[0]))     \n",
    "encodingValid, reconValid = model(ValidXae)\n",
    "lossValid = criterion(reconValid, ValidXae)\n",
    "print('Validation Set Draft Reconstruction Loss:{:.4f}'.format(lossValid.data[0]))\n",
    "encodingTest, reconTest = model(TestXae)\n",
    "lossTest = criterion(reconTest, TestXae)\n",
    "print('Test Set Draft Reconstruction Loss:{:.4f}'.format(lossTest.data[0]))"
   ]
  },
  {
   "cell_type": "code",
   "execution_count": null,
   "metadata": {},
   "outputs": [],
   "source": []
  }
 ],
 "metadata": {
  "kernelspec": {
   "display_name": "Python 3",
   "language": "python",
   "name": "python3"
  },
  "language_info": {
   "codemirror_mode": {
    "name": "ipython",
    "version": 3
   },
   "file_extension": ".py",
   "mimetype": "text/x-python",
   "name": "python",
   "nbconvert_exporter": "python",
   "pygments_lexer": "ipython3",
   "version": "3.7.1"
  }
 },
 "nbformat": 4,
 "nbformat_minor": 2
}
