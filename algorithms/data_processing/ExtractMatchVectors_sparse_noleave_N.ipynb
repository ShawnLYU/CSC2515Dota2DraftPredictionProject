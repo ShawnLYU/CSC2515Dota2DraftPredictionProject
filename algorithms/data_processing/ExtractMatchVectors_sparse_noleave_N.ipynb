{
 "cells": [
  {
   "cell_type": "code",
   "execution_count": 1,
   "metadata": {
    "collapsed": true
   },
   "outputs": [],
   "source": [
    "import numpy as np\n",
    "import pandas as pd\n",
    "from scipy import sparse"
   ]
  },
  {
   "cell_type": "code",
   "execution_count": 2,
   "metadata": {},
   "outputs": [],
   "source": [
    "# Initializing the sparse input and output matrix\n",
    "D=pd.read_csv('../data/Semenov2017PaperData_matches_dota.csv',nrows=4600)\n",
    "D=D.loc[(D['leavers']==0)&(D['skill']==1),:]\n",
    "Out=sparse.csc_matrix(D['radiant_win'])\n",
    "train_heroes=D.loc[:,'r1_hero_id':]\n",
    "trainX=np.zeros((D.shape[0],2*113))\n",
    "for i in range(D.shape[0]):\n",
    "    trainX[i,train_heroes.iloc[i,0:5].values-1]=np.ones(5)\n",
    "    trainX[i,train_heroes.iloc[i,5:10].values-1+113]=np.ones(5)\n",
    "In=sparse.csr_matrix(trainX)"
   ]
  },
  {
   "cell_type": "code",
   "execution_count": 3,
   "metadata": {},
   "outputs": [
    {
     "data": {
      "text/html": [
       "<div>\n",
       "<style>\n",
       "    .dataframe thead tr:only-child th {\n",
       "        text-align: right;\n",
       "    }\n",
       "\n",
       "    .dataframe thead th {\n",
       "        text-align: left;\n",
       "    }\n",
       "\n",
       "    .dataframe tbody tr th {\n",
       "        vertical-align: top;\n",
       "    }\n",
       "</style>\n",
       "<table border=\"1\" class=\"dataframe\">\n",
       "  <thead>\n",
       "    <tr style=\"text-align: right;\">\n",
       "      <th></th>\n",
       "      <th>match_id</th>\n",
       "      <th>skill</th>\n",
       "      <th>start_time</th>\n",
       "      <th>human_players</th>\n",
       "      <th>game_mode</th>\n",
       "      <th>lobby_type</th>\n",
       "      <th>first_blood_time</th>\n",
       "      <th>radiant_win</th>\n",
       "      <th>barracks_status_dire</th>\n",
       "      <th>barracks_status_radiant</th>\n",
       "      <th>...</th>\n",
       "      <th>r1_hero_id</th>\n",
       "      <th>r2_hero_id</th>\n",
       "      <th>r3_hero_id</th>\n",
       "      <th>r4_hero_id</th>\n",
       "      <th>r5_hero_id</th>\n",
       "      <th>d1_hero_id</th>\n",
       "      <th>d2_hero_id</th>\n",
       "      <th>d3_hero_id</th>\n",
       "      <th>d4_hero_id</th>\n",
       "      <th>d5_hero_id</th>\n",
       "    </tr>\n",
       "  </thead>\n",
       "  <tbody>\n",
       "    <tr>\n",
       "      <th>4597</th>\n",
       "      <td>2144325432</td>\n",
       "      <td>1</td>\n",
       "      <td>1455198089</td>\n",
       "      <td>10</td>\n",
       "      <td>22</td>\n",
       "      <td>7</td>\n",
       "      <td>15</td>\n",
       "      <td>0</td>\n",
       "      <td>63</td>\n",
       "      <td>51</td>\n",
       "      <td>...</td>\n",
       "      <td>93</td>\n",
       "      <td>71</td>\n",
       "      <td>3</td>\n",
       "      <td>106</td>\n",
       "      <td>74</td>\n",
       "      <td>8</td>\n",
       "      <td>111</td>\n",
       "      <td>63</td>\n",
       "      <td>4</td>\n",
       "      <td>67</td>\n",
       "    </tr>\n",
       "  </tbody>\n",
       "</table>\n",
       "<p>1 rows × 24 columns</p>\n",
       "</div>"
      ],
      "text/plain": [
       "        match_id  skill  start_time  human_players  game_mode  lobby_type  \\\n",
       "4597  2144325432      1  1455198089             10         22           7   \n",
       "\n",
       "      first_blood_time  radiant_win  barracks_status_dire  \\\n",
       "4597                15            0                    63   \n",
       "\n",
       "      barracks_status_radiant     ...      r1_hero_id  r2_hero_id  r3_hero_id  \\\n",
       "4597                       51     ...              93          71           3   \n",
       "\n",
       "      r4_hero_id  r5_hero_id  d1_hero_id  d2_hero_id  d3_hero_id  d4_hero_id  \\\n",
       "4597         106          74           8         111          63           4   \n",
       "\n",
       "      d5_hero_id  \n",
       "4597          67  \n",
       "\n",
       "[1 rows x 24 columns]"
      ]
     },
     "execution_count": 3,
     "metadata": {},
     "output_type": "execute_result"
    }
   ],
   "source": [
    "D"
   ]
  },
  {
   "cell_type": "code",
   "execution_count": 4,
   "metadata": {},
   "outputs": [
    {
     "name": "stdout",
     "output_type": "stream",
     "text": [
      "Processing  1 st block of 10000 records\n",
      "Processing  51 st block of 10000 records\n",
      "Processing  101 st block of 10000 records\n",
      "Processing  151 st block of 10000 records\n",
      "Processing  201 st block of 10000 records\n",
      "Processing  251 st block of 10000 records\n",
      "Processing  301 st block of 10000 records\n",
      "Processing  351 st block of 10000 records\n",
      "Processing  401 st block of 10000 records\n",
      "Processing  451 st block of 10000 records\n",
      "Processing  501 st block of 10000 records\n"
     ]
    }
   ],
   "source": [
    "m=10000\n",
    "j=0\n",
    "for chunk in pd.read_csv('../data/Semenov2017PaperData_matches_dota.csv',chunksize=m):\n",
    "    if j%50==0:\n",
    "        print('Processing ',j+1,'st block of 10000 records')\n",
    "    j+=1\n",
    "        \n",
    "    D=chunk.loc[(chunk['leavers']==0)&(chunk['skill']==1),:]\n",
    "    n=D.shape[0]\n",
    "    Out=sparse.hstack([Out,sparse.csc_matrix(D['radiant_win'])])\n",
    "    train_heroes=D.loc[:,'r1_hero_id':]\n",
    "    trainX=np.zeros((n,2*113))\n",
    "    for i in range(D.shape[0]):\n",
    "        trainX[i,train_heroes.iloc[i,0:5].values-1]=np.ones(5)\n",
    "        trainX[i,train_heroes.iloc[i,5:10].values-1+113]=np.ones(5)\n",
    "    In=sparse.vstack([In,sparse.csr_matrix(trainX)])"
   ]
  },
  {
   "cell_type": "code",
   "execution_count": 5,
   "metadata": {},
   "outputs": [
    {
     "data": {
      "text/plain": [
       "<2469137x226 sparse matrix of type '<class 'numpy.float64'>'\n",
       "\twith 24691369 stored elements in Compressed Sparse Row format>"
      ]
     },
     "execution_count": 5,
     "metadata": {},
     "output_type": "execute_result"
    }
   ],
   "source": [
    "In"
   ]
  },
  {
   "cell_type": "code",
   "execution_count": 6,
   "metadata": {},
   "outputs": [
    {
     "data": {
      "text/plain": [
       "<1x2469137 sparse matrix of type '<class 'numpy.int64'>'\n",
       "\twith 1333716 stored elements in Compressed Sparse Column format>"
      ]
     },
     "execution_count": 6,
     "metadata": {},
     "output_type": "execute_result"
    }
   ],
   "source": [
    "Out"
   ]
  },
  {
   "cell_type": "code",
   "execution_count": 7,
   "metadata": {},
   "outputs": [
    {
     "name": "stdout",
     "output_type": "stream",
     "text": [
      "TrainX size (1235185, 226)\n",
      "ValidX size (616667, 226)\n",
      "TestX size (617285, 226)\n",
      "TrainY size (1235185, 1)\n",
      "ValidY size (616667, 1)\n",
      "TestY size (617285, 1)\n"
     ]
    }
   ],
   "source": [
    "from sklearn.model_selection import train_test_split\n",
    "tempX, TestX, tempY, TestY = train_test_split(In,Out.transpose(),test_size=0.25)\n",
    "TrainX, ValidX, TrainY, ValidY = train_test_split(tempX,tempY,test_size=0.333)\n",
    "print('TrainX size', TrainX.shape)\n",
    "print('ValidX size', ValidX.shape)\n",
    "print('TestX size', TestX.shape)\n",
    "print('TrainY size', TrainY.shape)\n",
    "print('ValidY size', ValidY.shape)\n",
    "print('TestY size', TestY.shape)"
   ]
  },
  {
   "cell_type": "code",
   "execution_count": 8,
   "metadata": {
    "collapsed": true
   },
   "outputs": [],
   "source": [
    "sparse.save_npz('TrainInput_sparse_noleave_N.npz',TrainX)\n",
    "sparse.save_npz('ValidInput_sparse_noleave_N.npz',ValidX)\n",
    "sparse.save_npz('TestInput_sparse_noleave_N.npz',TestX)\n",
    "sparse.save_npz('TrainOutput_sparse_noleave_N.npz',TrainY)\n",
    "sparse.save_npz('ValidOutput_sparse_noleave_N.npz',ValidY)\n",
    "sparse.save_npz('TestOutput_sparse_noleave_N.npz',TestY)"
   ]
  },
  {
   "cell_type": "code",
   "execution_count": 9,
   "metadata": {
    "collapsed": true
   },
   "outputs": [],
   "source": [
    "with open('AllSetSparseInOut_noleave_N.npz','wb') as handle:\n",
    "    np.savez_compressed(handle,TrainX=TrainX,ValidX=ValidX,TestX=TestX,TrainY=TrainY,ValidY=ValidY,TestY=TestY)"
   ]
  },
  {
   "cell_type": "code",
   "execution_count": null,
   "metadata": {
    "collapsed": true
   },
   "outputs": [],
   "source": []
  },
  {
   "cell_type": "code",
   "execution_count": null,
   "metadata": {
    "collapsed": true
   },
   "outputs": [],
   "source": []
  },
  {
   "cell_type": "code",
   "execution_count": null,
   "metadata": {
    "collapsed": true
   },
   "outputs": [],
   "source": []
  },
  {
   "cell_type": "code",
   "execution_count": null,
   "metadata": {
    "collapsed": true
   },
   "outputs": [],
   "source": []
  },
  {
   "cell_type": "code",
   "execution_count": null,
   "metadata": {
    "collapsed": true
   },
   "outputs": [],
   "source": []
  }
 ],
 "metadata": {
  "kernelspec": {
   "display_name": "Python 3",
   "language": "python",
   "name": "python3"
  },
  "language_info": {
   "codemirror_mode": {
    "name": "ipython",
    "version": 3
   },
   "file_extension": ".py",
   "mimetype": "text/x-python",
   "name": "python",
   "nbconvert_exporter": "python",
   "pygments_lexer": "ipython3",
   "version": "3.7.0"
  }
 },
 "nbformat": 4,
 "nbformat_minor": 2
}
