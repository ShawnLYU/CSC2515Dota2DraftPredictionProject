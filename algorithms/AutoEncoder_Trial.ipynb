{
 "cells": [
  {
   "cell_type": "code",
   "execution_count": 1,
   "metadata": {
    "collapsed": true
   },
   "outputs": [],
   "source": [
    "import numpy as np\n",
    "import torch\n",
    "import torchvision\n",
    "from torch import nn\n",
    "from torch.autograd import Variable\n",
    "from torch.utils.data import DataLoader"
   ]
  },
  {
   "cell_type": "code",
   "execution_count": 2,
   "metadata": {
    "collapsed": true
   },
   "outputs": [],
   "source": [
    "num_epochs = 200\n",
    "batch_size = 128\n",
    "learning_rate = 1e-3"
   ]
  },
  {
   "cell_type": "code",
   "execution_count": 3,
   "metadata": {
    "collapsed": true
   },
   "outputs": [],
   "source": [
    "class autoencoder(nn.Module):\n",
    "    def __init__(self):\n",
    "        super(autoencoder, self).__init__()\n",
    "        self.encoder = nn.Sequential(\n",
    "            nn.Linear(113, 113),nn.ReLU(True),\n",
    "            nn.Linear(113, 100),nn.ReLU(True), \n",
    "            nn.Linear(100, 10)\n",
    "        )\n",
    "        self.decoder = nn.Sequential(\n",
    "            nn.Linear(10, 100),nn.ReLU(True),\n",
    "            nn.Linear(100, 113),nn.ReLU(True),\n",
    "            nn.Linear(113, 113),\n",
    "            nn.Sigmoid()\n",
    "        )\n",
    "\n",
    "    def forward(self, x):\n",
    "        encoded = self.encoder(x)\n",
    "        decoded = self.decoder(encoded)\n",
    "        return encoded, decoded\n",
    "    "
   ]
  },
  {
   "cell_type": "code",
   "execution_count": 4,
   "metadata": {
    "collapsed": true
   },
   "outputs": [],
   "source": [
    "model = autoencoder()\n",
    "criterion = nn.BCELoss()\n",
    "optimizer = torch.optim.Adam(model.parameters(), lr=learning_rate, weight_decay=1e-5)"
   ]
  },
  {
   "cell_type": "code",
   "execution_count": 5,
   "metadata": {
    "collapsed": true
   },
   "outputs": [],
   "source": [
    "dataset=np.load('../data/all/all_IO_noleave_N_small.npz')\n",
    "TrainX=np.asarray(np.asmatrix(dataset['TrainX'])[0,0].astype(np.float32).todense())\n",
    "ValidX=np.asarray(np.asmatrix(dataset['ValidX'])[0,0].astype(np.float32).todense())\n",
    "TestX=np.asarray(np.asmatrix(dataset['TestX'])[0,0].astype(np.float32).todense())"
   ]
  },
  {
   "cell_type": "code",
   "execution_count": 6,
   "metadata": {
    "collapsed": true
   },
   "outputs": [],
   "source": [
    "n=TrainX.shape[1]\n",
    "TrainXae=torch.from_numpy(np.vstack((TrainX[:,:int(n/2)],TrainX[:,int(n/2):])))\n",
    "ValidXae=torch.from_numpy(np.vstack((ValidX[:,:int(n/2)],ValidX[:,int(n/2):])))\n",
    "TestXae=torch.from_numpy(np.vstack((TestX[:,:int(n/2)],TestX[:,int(n/2):])))"
   ]
  },
  {
   "cell_type": "code",
   "execution_count": 7,
   "metadata": {
    "collapsed": true
   },
   "outputs": [],
   "source": [
    "dataloader=DataLoader(TrainXae, batch_size=batch_size, shuffle=True)"
   ]
  },
  {
   "cell_type": "code",
   "execution_count": 8,
   "metadata": {},
   "outputs": [
    {
     "name": "stderr",
     "output_type": "stream",
     "text": [
      "C:\\Users\\Gary\\Anaconda3\\lib\\site-packages\\ipykernel_launcher.py:18: UserWarning: invalid index of a 0-dim tensor. This will be an error in PyTorch 0.5. Use tensor.item() to convert a 0-dim tensor to a Python number\n"
     ]
    },
    {
     "name": "stdout",
     "output_type": "stream",
     "text": [
      "At epoch [10/200], Training loss:0.1688, Validation loss:0.1688, Test loss:0.1689\n",
      "At epoch [20/200], Training loss:0.1638, Validation loss:0.1643, Test loss:0.1645\n",
      "At epoch [30/200], Training loss:0.1552, Validation loss:0.1572, Test loss:0.1575\n",
      "At epoch [40/200], Training loss:0.1445, Validation loss:0.1499, Test loss:0.1498\n",
      "At epoch [50/200], Training loss:0.1349, Validation loss:0.1433, Test loss:0.1434\n",
      "At epoch [60/200], Training loss:0.1278, Validation loss:0.1390, Test loss:0.1388\n",
      "At epoch [70/200], Training loss:0.1168, Validation loss:0.1318, Test loss:0.1314\n",
      "At epoch [80/200], Training loss:0.1115, Validation loss:0.1303, Test loss:0.1299\n",
      "At epoch [90/200], Training loss:0.1063, Validation loss:0.1286, Test loss:0.1280\n",
      "At epoch [100/200], Training loss:0.1007, Validation loss:0.1265, Test loss:0.1255\n",
      "At epoch [110/200], Training loss:0.0968, Validation loss:0.1269, Test loss:0.1255\n",
      "At epoch [120/200], Training loss:0.0930, Validation loss:0.1276, Test loss:0.1255\n",
      "At epoch [130/200], Training loss:0.0884, Validation loss:0.1269, Test loss:0.1248\n",
      "At epoch [140/200], Training loss:0.0834, Validation loss:0.1266, Test loss:0.1243\n",
      "At epoch [150/200], Training loss:0.0790, Validation loss:0.1270, Test loss:0.1241\n",
      "At epoch [160/200], Training loss:0.0739, Validation loss:0.1269, Test loss:0.1239\n",
      "At epoch [170/200], Training loss:0.0706, Validation loss:0.1294, Test loss:0.1260\n",
      "At epoch [180/200], Training loss:0.0682, Validation loss:0.1324, Test loss:0.1286\n",
      "At epoch [190/200], Training loss:0.0654, Validation loss:0.1353, Test loss:0.1316\n",
      "At epoch [200/200], Training loss:0.0627, Validation loss:0.1387, Test loss:0.1348\n"
     ]
    }
   ],
   "source": [
    "for epoch in range(num_epochs):\n",
    "    for data in dataloader:\n",
    "        encoding, recon = model(data)\n",
    "        loss = criterion(recon, data)\n",
    "        # ===================backward====================\n",
    "        optimizer.zero_grad()\n",
    "        loss.backward()\n",
    "        optimizer.step()\n",
    "    # ===================log========================\n",
    "#     print('epoch [{}/{}], loss:{:.4f}'.format(epoch + 1, num_epochs, loss.data[0]))\n",
    "    if epoch % 10 == 9:\n",
    "        encodingTrain, reconTrain = model(TrainXae)\n",
    "        lossTrain = criterion(reconTrain, TrainXae)\n",
    "        encodingValid, reconValid = model(ValidXae)\n",
    "        lossValid = criterion(reconValid, ValidXae)\n",
    "        encodingTest, reconTest = model(TestXae)\n",
    "        lossTest = criterion(reconTest, TestXae)\n",
    "        print('At epoch [{}/{}], Training loss:{:.4f}, Validation loss:{:.4f}, Test loss:{:.4f}'.format(epoch + 1, num_epochs, lossTrain.data[0],lossValid.data[0],lossTest.data[0]))        "
   ]
  },
  {
   "cell_type": "code",
   "execution_count": 9,
   "metadata": {},
   "outputs": [
    {
     "name": "stdout",
     "output_type": "stream",
     "text": [
      "Training Set Draft Reconstruction Loss:0.0627\n",
      "Validation Set Draft Reconstruction Loss:0.1387\n",
      "Test Set Draft Reconstruction Loss:0.1348\n"
     ]
    },
    {
     "name": "stderr",
     "output_type": "stream",
     "text": [
      "C:\\Users\\Gary\\Anaconda3\\lib\\site-packages\\ipykernel_launcher.py:3: UserWarning: invalid index of a 0-dim tensor. This will be an error in PyTorch 0.5. Use tensor.item() to convert a 0-dim tensor to a Python number\n",
      "  This is separate from the ipykernel package so we can avoid doing imports until\n",
      "C:\\Users\\Gary\\Anaconda3\\lib\\site-packages\\ipykernel_launcher.py:6: UserWarning: invalid index of a 0-dim tensor. This will be an error in PyTorch 0.5. Use tensor.item() to convert a 0-dim tensor to a Python number\n",
      "  \n",
      "C:\\Users\\Gary\\Anaconda3\\lib\\site-packages\\ipykernel_launcher.py:9: UserWarning: invalid index of a 0-dim tensor. This will be an error in PyTorch 0.5. Use tensor.item() to convert a 0-dim tensor to a Python number\n",
      "  if __name__ == '__main__':\n"
     ]
    }
   ],
   "source": [
    "encodingTrain, reconTrain = model(TrainXae)\n",
    "lossTrain = criterion(reconTrain, TrainXae)\n",
    "print('Training Set Draft Reconstruction Loss:{:.4f}'.format(lossTrain.data[0]))     \n",
    "encodingValid, reconValid = model(ValidXae)\n",
    "lossValid = criterion(reconValid, ValidXae)\n",
    "print('Validation Set Draft Reconstruction Loss:{:.4f}'.format(lossValid.data[0]))\n",
    "encodingTest, reconTest = model(TestXae)\n",
    "lossTest = criterion(reconTest, TestXae)\n",
    "print('Test Set Draft Reconstruction Loss:{:.4f}'.format(lossTest.data[0]))"
   ]
  },
  {
   "cell_type": "code",
   "execution_count": null,
   "metadata": {
    "collapsed": true
   },
   "outputs": [],
   "source": []
  }
 ],
 "metadata": {
  "kernelspec": {
   "display_name": "Python 3",
   "language": "python",
   "name": "python3"
  },
  "language_info": {
   "codemirror_mode": {
    "name": "ipython",
    "version": 3
   },
   "file_extension": ".py",
   "mimetype": "text/x-python",
   "name": "python",
   "nbconvert_exporter": "python",
   "pygments_lexer": "ipython3",
   "version": "3.6.7"
  }
 },
 "nbformat": 4,
 "nbformat_minor": 2
}
